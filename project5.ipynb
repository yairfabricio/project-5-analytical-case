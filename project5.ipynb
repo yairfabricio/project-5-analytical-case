{
 "cells": [
  {
   "cell_type": "markdown",
   "metadata": {},
   "source": [
    "# Hola Yair! <a class=\"tocSkip\"></a>\n",
    "\n",
    "Mi nombre es Oscar Flores y tengo el gusto de revisar tu proyecto. Si tienes algún comentario que quieras agregar en tus respuestas te puedes referir a mi como Oscar, no hay problema que me trates de tú.\n",
    "\n",
    "Si veo un error en la primera revisión solamente lo señalaré y dejaré que tú encuentres de qué se trata y cómo arreglarlo. Debo prepararte para que te desempeñes como especialista en Data, en un trabajo real, el responsable a cargo tuyo hará lo mismo. Si aún tienes dificultades para resolver esta tarea, te daré indicaciones más precisas en una siguiente iteración.\n",
    "\n",
    "Te dejaré mis comentarios más abajo - **por favor, no los muevas, modifiques o borres**\n",
    "\n",
    "Comenzaré mis comentarios con un resumen de los puntos que están bien, aquellos que debes corregir y aquellos que puedes mejorar. Luego deberás revisar todo el notebook para leer mis comentarios, los cuales estarán en rectángulos de color verde, amarillo o rojo como siguen:\n",
    "\n",
    "<div class=\"alert alert-block alert-success\">\n",
    "<b>Comentario de Reviewer</b> <a class=\"tocSkip\"></a>\n",
    "    \n",
    "Muy bien! Toda la respuesta fue lograda satisfactoriamente.\n",
    "</div>\n",
    "\n",
    "<div class=\"alert alert-block alert-warning\">\n",
    "<b>Comentario de Reviewer</b> <a class=\"tocSkip\"></a>\n",
    "\n",
    "Existen detalles a mejorar. Existen recomendaciones.\n",
    "</div>\n",
    "\n",
    "<div class=\"alert alert-block alert-danger\">\n",
    "\n",
    "<b>Comentario de Reviewer</b> <a class=\"tocSkip\"></a>\n",
    "\n",
    "Se necesitan correcciones en el bloque. El trabajo no puede ser aceptado con comentarios en rojo sin solucionar.\n",
    "</div>\n",
    "\n",
    "Cualquier comentario que quieras agregar entre iteraciones de revisión lo puedes hacer de la siguiente manera:\n",
    "\n",
    "<div class=\"alert alert-block alert-info\">\n",
    "<b>Respuesta estudiante.</b> <a class=\"tocSkip\"></a>\n",
    "</div>\n"
   ]
  },
  {
   "cell_type": "markdown",
   "metadata": {},
   "source": [
    "## Resumen de la revisión 1 <a class=\"tocSkip\"></a>"
   ]
  },
  {
   "cell_type": "markdown",
   "metadata": {},
   "source": [
    "<div class=\"alert alert-block alert-warning\">\n",
    "<b>Comentario de Reviewer</b> <a class=\"tocSkip\"></a>\n",
    "\n",
    "Buen trabajo Yair! Tu notebook está bastante bien desarrollado. Creo que has mantenido un orden correcto y el código adecuado para las tareas a completar. Hay algunos puntos que debes corregir, principalmente la eliminación de nulos, el periodo de datos, la rentabilidad por género y los test de hipótesis. Dejé comentarios detallados en cada una de esas partes para que los revises.\n",
    "    \n",
    "Saludos!    \n",
    "</div>"
   ]
  },
  {
   "cell_type": "markdown",
   "metadata": {},
   "source": [
    "## Resumen de la revisión 2 <a class=\"tocSkip\"></a>"
   ]
  },
  {
   "cell_type": "markdown",
   "metadata": {},
   "source": [
    "<div class=\"alert alert-block alert-success\">\n",
    "<b>Comentario de Reviewer v2</b> <a class=\"tocSkip\"></a>\n",
    "\n",
    "Bien hecho! Has completado todas las partes indicadas y ahora tu notebook está completo. Recuerda eso sí que el periodo de tiempo a considerar para un modelo de proyección no debe incluir tantos años al pasado, la información más relevante está en años recientes.\n",
    "    \n",
    "Saludos!    \n",
    "</div>"
   ]
  },
  {
   "cell_type": "markdown",
   "metadata": {},
   "source": [
    "----"
   ]
  },
  {
   "cell_type": "markdown",
   "metadata": {},
   "source": [
    "## Paso 1. Abre el archivo de datos y estudia la información general "
   ]
  },
  {
   "cell_type": "code",
   "execution_count": 35,
   "metadata": {},
   "outputs": [],
   "source": [
    "#importar las bibliotecas\n",
    "import pandas as pd\n",
    "import matplotlib.pyplot as plt\n",
    "import numpy as np\n",
    "from scipy import stats as st\n",
    "from scipy.stats import levene"
   ]
  },
  {
   "cell_type": "code",
   "execution_count": 2,
   "metadata": {},
   "outputs": [],
   "source": [
    "#leer el dataset\n",
    "games = pd.read_csv(\"/datasets/games.csv\")"
   ]
  },
  {
   "cell_type": "code",
   "execution_count": 3,
   "metadata": {},
   "outputs": [
    {
     "name": "stdout",
     "output_type": "stream",
     "text": [
      "<class 'pandas.core.frame.DataFrame'>\n",
      "RangeIndex: 16715 entries, 0 to 16714\n",
      "Data columns (total 11 columns):\n",
      " #   Column           Non-Null Count  Dtype  \n",
      "---  ------           --------------  -----  \n",
      " 0   Name             16713 non-null  object \n",
      " 1   Platform         16715 non-null  object \n",
      " 2   Year_of_Release  16446 non-null  float64\n",
      " 3   Genre            16713 non-null  object \n",
      " 4   NA_sales         16715 non-null  float64\n",
      " 5   EU_sales         16715 non-null  float64\n",
      " 6   JP_sales         16715 non-null  float64\n",
      " 7   Other_sales      16715 non-null  float64\n",
      " 8   Critic_Score     8137 non-null   float64\n",
      " 9   User_Score       10014 non-null  object \n",
      " 10  Rating           9949 non-null   object \n",
      "dtypes: float64(6), object(5)\n",
      "memory usage: 1.4+ MB\n"
     ]
    }
   ],
   "source": [
    "#ver la informacion del df\n",
    "games.info()"
   ]
  },
  {
   "cell_type": "markdown",
   "metadata": {},
   "source": [
    "## Paso 2. Prepara los datos"
   ]
  },
  {
   "cell_type": "code",
   "execution_count": 4,
   "metadata": {},
   "outputs": [
    {
     "data": {
      "text/plain": [
       "name                  2\n",
       "platform              0\n",
       "year_of_release     269\n",
       "genre                 2\n",
       "na_sales              0\n",
       "eu_sales              0\n",
       "jp_sales              0\n",
       "other_sales           0\n",
       "critic_score       8578\n",
       "user_score         6701\n",
       "rating             6766\n",
       "dtype: int64"
      ]
     },
     "execution_count": 4,
     "metadata": {},
     "output_type": "execute_result"
    }
   ],
   "source": [
    "#Reemplaza los nombres de las columnas (ponlos en minúsculas).\n",
    "games.columns= games.columns.str.lower()\n",
    "#contar los elementos ausentes \n",
    "games.isna().sum()"
   ]
  },
  {
   "cell_type": "markdown",
   "metadata": {},
   "source": [
    "<div class=\"alert alert-block alert-success\">\n",
    "<b>Comentario de Reviewer</b> <a class=\"tocSkip\"></a>\n",
    "\n",
    "Bien, las columnas quedan en snakecase\n",
    "</div>"
   ]
  },
  {
   "cell_type": "markdown",
   "metadata": {},
   "source": [
    "Quitar las filas ausentes y cambiar el tipo de datos"
   ]
  },
  {
   "cell_type": "code",
   "execution_count": 5,
   "metadata": {},
   "outputs": [],
   "source": [
    "#eliminar los datos ausentes en la columna year of release para convertir a entero el tipo de dato\n",
    "games = games.dropna(subset=[\"year_of_release\"])\n",
    "#eliminar los datos ausentes en la columna critic score para convertir a entero el tipo de dato\n",
    "mean_criticscore=games[\"critic_score\"].mean()\n",
    "games[\"critic_score\"].fillna(mean_criticscore,inplace=True)\n",
    "#eliminar los datos ausentes en la columna user score para convertir a entero el tipo de dato\n",
    "mean_userscore=pd.to_numeric(games['user_score'], errors='coerce').mean()\n",
    "games[\"user_score\"].fillna(mean_userscore,inplace=True)\n",
    "#eliminar los datos ausentes en la columna rating\n",
    "#games = games.dropna(subset=[\"rating\"])\n",
    "#Convierte los datos en los tipos necesarios.\n",
    "games[\"year_of_release\"] = games[\"year_of_release\"].astype(\"int64\") #en este caso se convierte a int para eliminar los decimales\n",
    "games[\"critic_score\"] = games[\"critic_score\"].astype(\"int64\")#en este caso se convierte a int para eliminar los decimales\n"
   ]
  },
  {
   "cell_type": "markdown",
   "metadata": {},
   "source": [
    "quite los valores ausentes porque para el analisis no sirve estos datos\n",
    "\n",
    "Los datos en estas columnas deben estar ausente por algun tipó de error en el dataframe\n",
    "\n",
    "En el caso de tbd no entraran en el analisis porque aun no se calificaron"
   ]
  },
  {
   "cell_type": "markdown",
   "metadata": {},
   "source": [
    "<div class=\"alert alert-block alert-danger\">\n",
    "<b>Comentario de Reviewer</b> <a class=\"tocSkip\"></a>\n",
    "\n",
    "Para los score y rating son muchas las filas que has eliminado, eso quitará bastantes datos. Si bien no se analizar tanto estas columnas, los valores de esas filas que removiste, si podrán ser útiles. Te sugiero que los reemplaces por algún valor especial o simplemente no los modifiques para tener más data en las otras columnas. La eliminación de nulos siempre depende de la cantidad relativa de filas a eliminar, antes de eliminar los nulos, podrías verificar que porcentaje son respecto al total.\n",
    "</div>"
   ]
  },
  {
   "cell_type": "markdown",
   "metadata": {},
   "source": [
    "<div class=\"alert alert-block alert-success\">\n",
    "<b>Comentario de Reviewer v2</b> <a class=\"tocSkip\"></a>\n",
    "\n",
    "Ok, bien, también podrías haberlos dejado en 0 por ejemplo. Incluso, podría estar justificado dejarlos como nulos.\n",
    "</div>"
   ]
  },
  {
   "cell_type": "code",
   "execution_count": 6,
   "metadata": {},
   "outputs": [],
   "source": [
    "#añadir la columna total sales al dataframe\n",
    "games[\"total_sales\"] = games[\"na_sales\"]+games[\"eu_sales\"]+games[\"jp_sales\"]+games[\"other_sales\"]"
   ]
  },
  {
   "cell_type": "markdown",
   "metadata": {},
   "source": [
    "<div class=\"alert alert-block alert-success\">\n",
    "<b>Comentario de Reviewer</b> <a class=\"tocSkip\"></a>\n",
    "\n",
    "Correcto. Otra forma es games['total_sales']=games[['na_sales','eu_sales','jp_sales','other_sales']].sum(axis=1)\n",
    "</div>"
   ]
  },
  {
   "cell_type": "code",
   "execution_count": 7,
   "metadata": {},
   "outputs": [
    {
     "data": {
      "text/html": [
       "<div>\n",
       "<style scoped>\n",
       "    .dataframe tbody tr th:only-of-type {\n",
       "        vertical-align: middle;\n",
       "    }\n",
       "\n",
       "    .dataframe tbody tr th {\n",
       "        vertical-align: top;\n",
       "    }\n",
       "\n",
       "    .dataframe thead th {\n",
       "        text-align: right;\n",
       "    }\n",
       "</style>\n",
       "<table border=\"1\" class=\"dataframe\">\n",
       "  <thead>\n",
       "    <tr style=\"text-align: right;\">\n",
       "      <th></th>\n",
       "      <th>name</th>\n",
       "      <th>platform</th>\n",
       "      <th>year_of_release</th>\n",
       "      <th>genre</th>\n",
       "      <th>na_sales</th>\n",
       "      <th>eu_sales</th>\n",
       "      <th>jp_sales</th>\n",
       "      <th>other_sales</th>\n",
       "      <th>critic_score</th>\n",
       "      <th>user_score</th>\n",
       "      <th>rating</th>\n",
       "      <th>total_sales</th>\n",
       "    </tr>\n",
       "  </thead>\n",
       "  <tbody>\n",
       "    <tr>\n",
       "      <th>16695</th>\n",
       "      <td>Planet Monsters</td>\n",
       "      <td>GBA</td>\n",
       "      <td>2001</td>\n",
       "      <td>Action</td>\n",
       "      <td>0.01</td>\n",
       "      <td>0.00</td>\n",
       "      <td>0.00</td>\n",
       "      <td>0.0</td>\n",
       "      <td>67.0</td>\n",
       "      <td>NaN</td>\n",
       "      <td>E</td>\n",
       "      <td>0.01</td>\n",
       "    </tr>\n",
       "    <tr>\n",
       "      <th>16696</th>\n",
       "      <td>Breach</td>\n",
       "      <td>PC</td>\n",
       "      <td>2011</td>\n",
       "      <td>Shooter</td>\n",
       "      <td>0.01</td>\n",
       "      <td>0.00</td>\n",
       "      <td>0.00</td>\n",
       "      <td>0.0</td>\n",
       "      <td>61.0</td>\n",
       "      <td>58.000000</td>\n",
       "      <td>T</td>\n",
       "      <td>0.01</td>\n",
       "    </tr>\n",
       "    <tr>\n",
       "      <th>16697</th>\n",
       "      <td>Bust-A-Move 3000</td>\n",
       "      <td>GC</td>\n",
       "      <td>2003</td>\n",
       "      <td>Puzzle</td>\n",
       "      <td>0.01</td>\n",
       "      <td>0.00</td>\n",
       "      <td>0.00</td>\n",
       "      <td>0.0</td>\n",
       "      <td>53.0</td>\n",
       "      <td>NaN</td>\n",
       "      <td>E</td>\n",
       "      <td>0.01</td>\n",
       "    </tr>\n",
       "    <tr>\n",
       "      <th>16698</th>\n",
       "      <td>Mega Brain Boost</td>\n",
       "      <td>DS</td>\n",
       "      <td>2008</td>\n",
       "      <td>Puzzle</td>\n",
       "      <td>0.01</td>\n",
       "      <td>0.00</td>\n",
       "      <td>0.00</td>\n",
       "      <td>0.0</td>\n",
       "      <td>48.0</td>\n",
       "      <td>NaN</td>\n",
       "      <td>E</td>\n",
       "      <td>0.01</td>\n",
       "    </tr>\n",
       "    <tr>\n",
       "      <th>16699</th>\n",
       "      <td>The Longest 5 Minutes</td>\n",
       "      <td>PSV</td>\n",
       "      <td>2016</td>\n",
       "      <td>Action</td>\n",
       "      <td>0.00</td>\n",
       "      <td>0.00</td>\n",
       "      <td>0.01</td>\n",
       "      <td>0.0</td>\n",
       "      <td>68.0</td>\n",
       "      <td>71.263299</td>\n",
       "      <td>NaN</td>\n",
       "      <td>0.01</td>\n",
       "    </tr>\n",
       "    <tr>\n",
       "      <th>16700</th>\n",
       "      <td>Mezase!! Tsuri Master DS</td>\n",
       "      <td>DS</td>\n",
       "      <td>2009</td>\n",
       "      <td>Sports</td>\n",
       "      <td>0.00</td>\n",
       "      <td>0.00</td>\n",
       "      <td>0.01</td>\n",
       "      <td>0.0</td>\n",
       "      <td>68.0</td>\n",
       "      <td>71.263299</td>\n",
       "      <td>NaN</td>\n",
       "      <td>0.01</td>\n",
       "    </tr>\n",
       "    <tr>\n",
       "      <th>16701</th>\n",
       "      <td>Eiyuu Densetsu: Sora no Kiseki Material Collec...</td>\n",
       "      <td>PSP</td>\n",
       "      <td>2007</td>\n",
       "      <td>Role-Playing</td>\n",
       "      <td>0.00</td>\n",
       "      <td>0.00</td>\n",
       "      <td>0.01</td>\n",
       "      <td>0.0</td>\n",
       "      <td>68.0</td>\n",
       "      <td>71.263299</td>\n",
       "      <td>NaN</td>\n",
       "      <td>0.01</td>\n",
       "    </tr>\n",
       "    <tr>\n",
       "      <th>16702</th>\n",
       "      <td>STORM: Frontline Nation</td>\n",
       "      <td>PC</td>\n",
       "      <td>2011</td>\n",
       "      <td>Strategy</td>\n",
       "      <td>0.00</td>\n",
       "      <td>0.01</td>\n",
       "      <td>0.00</td>\n",
       "      <td>0.0</td>\n",
       "      <td>60.0</td>\n",
       "      <td>72.000000</td>\n",
       "      <td>E10+</td>\n",
       "      <td>0.01</td>\n",
       "    </tr>\n",
       "    <tr>\n",
       "      <th>16703</th>\n",
       "      <td>Strawberry Nauts</td>\n",
       "      <td>PSV</td>\n",
       "      <td>2016</td>\n",
       "      <td>Adventure</td>\n",
       "      <td>0.00</td>\n",
       "      <td>0.00</td>\n",
       "      <td>0.01</td>\n",
       "      <td>0.0</td>\n",
       "      <td>68.0</td>\n",
       "      <td>71.263299</td>\n",
       "      <td>NaN</td>\n",
       "      <td>0.01</td>\n",
       "    </tr>\n",
       "    <tr>\n",
       "      <th>16704</th>\n",
       "      <td>Plushees</td>\n",
       "      <td>DS</td>\n",
       "      <td>2008</td>\n",
       "      <td>Simulation</td>\n",
       "      <td>0.01</td>\n",
       "      <td>0.00</td>\n",
       "      <td>0.00</td>\n",
       "      <td>0.0</td>\n",
       "      <td>68.0</td>\n",
       "      <td>NaN</td>\n",
       "      <td>E</td>\n",
       "      <td>0.01</td>\n",
       "    </tr>\n",
       "    <tr>\n",
       "      <th>16705</th>\n",
       "      <td>15 Days</td>\n",
       "      <td>PC</td>\n",
       "      <td>2009</td>\n",
       "      <td>Adventure</td>\n",
       "      <td>0.00</td>\n",
       "      <td>0.01</td>\n",
       "      <td>0.00</td>\n",
       "      <td>0.0</td>\n",
       "      <td>63.0</td>\n",
       "      <td>58.000000</td>\n",
       "      <td>NaN</td>\n",
       "      <td>0.01</td>\n",
       "    </tr>\n",
       "    <tr>\n",
       "      <th>16706</th>\n",
       "      <td>Men in Black II: Alien Escape</td>\n",
       "      <td>GC</td>\n",
       "      <td>2003</td>\n",
       "      <td>Shooter</td>\n",
       "      <td>0.01</td>\n",
       "      <td>0.00</td>\n",
       "      <td>0.00</td>\n",
       "      <td>0.0</td>\n",
       "      <td>68.0</td>\n",
       "      <td>NaN</td>\n",
       "      <td>T</td>\n",
       "      <td>0.01</td>\n",
       "    </tr>\n",
       "    <tr>\n",
       "      <th>16707</th>\n",
       "      <td>Aiyoku no Eustia</td>\n",
       "      <td>PSV</td>\n",
       "      <td>2014</td>\n",
       "      <td>Misc</td>\n",
       "      <td>0.00</td>\n",
       "      <td>0.00</td>\n",
       "      <td>0.01</td>\n",
       "      <td>0.0</td>\n",
       "      <td>68.0</td>\n",
       "      <td>71.263299</td>\n",
       "      <td>NaN</td>\n",
       "      <td>0.01</td>\n",
       "    </tr>\n",
       "    <tr>\n",
       "      <th>16708</th>\n",
       "      <td>Woody Woodpecker in Crazy Castle 5</td>\n",
       "      <td>GBA</td>\n",
       "      <td>2002</td>\n",
       "      <td>Platform</td>\n",
       "      <td>0.01</td>\n",
       "      <td>0.00</td>\n",
       "      <td>0.00</td>\n",
       "      <td>0.0</td>\n",
       "      <td>68.0</td>\n",
       "      <td>71.263299</td>\n",
       "      <td>NaN</td>\n",
       "      <td>0.01</td>\n",
       "    </tr>\n",
       "    <tr>\n",
       "      <th>16709</th>\n",
       "      <td>SCORE International Baja 1000: The Official Game</td>\n",
       "      <td>PS2</td>\n",
       "      <td>2008</td>\n",
       "      <td>Racing</td>\n",
       "      <td>0.00</td>\n",
       "      <td>0.00</td>\n",
       "      <td>0.00</td>\n",
       "      <td>0.0</td>\n",
       "      <td>68.0</td>\n",
       "      <td>71.263299</td>\n",
       "      <td>NaN</td>\n",
       "      <td>0.00</td>\n",
       "    </tr>\n",
       "    <tr>\n",
       "      <th>16710</th>\n",
       "      <td>Samurai Warriors: Sanada Maru</td>\n",
       "      <td>PS3</td>\n",
       "      <td>2016</td>\n",
       "      <td>Action</td>\n",
       "      <td>0.00</td>\n",
       "      <td>0.00</td>\n",
       "      <td>0.01</td>\n",
       "      <td>0.0</td>\n",
       "      <td>68.0</td>\n",
       "      <td>71.263299</td>\n",
       "      <td>NaN</td>\n",
       "      <td>0.01</td>\n",
       "    </tr>\n",
       "    <tr>\n",
       "      <th>16711</th>\n",
       "      <td>LMA Manager 2007</td>\n",
       "      <td>X360</td>\n",
       "      <td>2006</td>\n",
       "      <td>Sports</td>\n",
       "      <td>0.00</td>\n",
       "      <td>0.01</td>\n",
       "      <td>0.00</td>\n",
       "      <td>0.0</td>\n",
       "      <td>68.0</td>\n",
       "      <td>71.263299</td>\n",
       "      <td>NaN</td>\n",
       "      <td>0.01</td>\n",
       "    </tr>\n",
       "    <tr>\n",
       "      <th>16712</th>\n",
       "      <td>Haitaka no Psychedelica</td>\n",
       "      <td>PSV</td>\n",
       "      <td>2016</td>\n",
       "      <td>Adventure</td>\n",
       "      <td>0.00</td>\n",
       "      <td>0.00</td>\n",
       "      <td>0.01</td>\n",
       "      <td>0.0</td>\n",
       "      <td>68.0</td>\n",
       "      <td>71.263299</td>\n",
       "      <td>NaN</td>\n",
       "      <td>0.01</td>\n",
       "    </tr>\n",
       "    <tr>\n",
       "      <th>16713</th>\n",
       "      <td>Spirits &amp; Spells</td>\n",
       "      <td>GBA</td>\n",
       "      <td>2003</td>\n",
       "      <td>Platform</td>\n",
       "      <td>0.01</td>\n",
       "      <td>0.00</td>\n",
       "      <td>0.00</td>\n",
       "      <td>0.0</td>\n",
       "      <td>68.0</td>\n",
       "      <td>71.263299</td>\n",
       "      <td>NaN</td>\n",
       "      <td>0.01</td>\n",
       "    </tr>\n",
       "    <tr>\n",
       "      <th>16714</th>\n",
       "      <td>Winning Post 8 2016</td>\n",
       "      <td>PSV</td>\n",
       "      <td>2016</td>\n",
       "      <td>Simulation</td>\n",
       "      <td>0.00</td>\n",
       "      <td>0.00</td>\n",
       "      <td>0.01</td>\n",
       "      <td>0.0</td>\n",
       "      <td>68.0</td>\n",
       "      <td>71.263299</td>\n",
       "      <td>NaN</td>\n",
       "      <td>0.01</td>\n",
       "    </tr>\n",
       "  </tbody>\n",
       "</table>\n",
       "</div>"
      ],
      "text/plain": [
       "                                                    name platform  \\\n",
       "16695                                    Planet Monsters      GBA   \n",
       "16696                                             Breach       PC   \n",
       "16697                                   Bust-A-Move 3000       GC   \n",
       "16698                                   Mega Brain Boost       DS   \n",
       "16699                              The Longest 5 Minutes      PSV   \n",
       "16700                           Mezase!! Tsuri Master DS       DS   \n",
       "16701  Eiyuu Densetsu: Sora no Kiseki Material Collec...      PSP   \n",
       "16702                            STORM: Frontline Nation       PC   \n",
       "16703                                   Strawberry Nauts      PSV   \n",
       "16704                                           Plushees       DS   \n",
       "16705                                            15 Days       PC   \n",
       "16706                      Men in Black II: Alien Escape       GC   \n",
       "16707                                   Aiyoku no Eustia      PSV   \n",
       "16708                 Woody Woodpecker in Crazy Castle 5      GBA   \n",
       "16709   SCORE International Baja 1000: The Official Game      PS2   \n",
       "16710                      Samurai Warriors: Sanada Maru      PS3   \n",
       "16711                                   LMA Manager 2007     X360   \n",
       "16712                            Haitaka no Psychedelica      PSV   \n",
       "16713                                   Spirits & Spells      GBA   \n",
       "16714                                Winning Post 8 2016      PSV   \n",
       "\n",
       "       year_of_release         genre  na_sales  eu_sales  jp_sales  \\\n",
       "16695             2001        Action      0.01      0.00      0.00   \n",
       "16696             2011       Shooter      0.01      0.00      0.00   \n",
       "16697             2003        Puzzle      0.01      0.00      0.00   \n",
       "16698             2008        Puzzle      0.01      0.00      0.00   \n",
       "16699             2016        Action      0.00      0.00      0.01   \n",
       "16700             2009        Sports      0.00      0.00      0.01   \n",
       "16701             2007  Role-Playing      0.00      0.00      0.01   \n",
       "16702             2011      Strategy      0.00      0.01      0.00   \n",
       "16703             2016     Adventure      0.00      0.00      0.01   \n",
       "16704             2008    Simulation      0.01      0.00      0.00   \n",
       "16705             2009     Adventure      0.00      0.01      0.00   \n",
       "16706             2003       Shooter      0.01      0.00      0.00   \n",
       "16707             2014          Misc      0.00      0.00      0.01   \n",
       "16708             2002      Platform      0.01      0.00      0.00   \n",
       "16709             2008        Racing      0.00      0.00      0.00   \n",
       "16710             2016        Action      0.00      0.00      0.01   \n",
       "16711             2006        Sports      0.00      0.01      0.00   \n",
       "16712             2016     Adventure      0.00      0.00      0.01   \n",
       "16713             2003      Platform      0.01      0.00      0.00   \n",
       "16714             2016    Simulation      0.00      0.00      0.01   \n",
       "\n",
       "       other_sales  critic_score  user_score rating  total_sales  \n",
       "16695          0.0          67.0         NaN      E         0.01  \n",
       "16696          0.0          61.0   58.000000      T         0.01  \n",
       "16697          0.0          53.0         NaN      E         0.01  \n",
       "16698          0.0          48.0         NaN      E         0.01  \n",
       "16699          0.0          68.0   71.263299    NaN         0.01  \n",
       "16700          0.0          68.0   71.263299    NaN         0.01  \n",
       "16701          0.0          68.0   71.263299    NaN         0.01  \n",
       "16702          0.0          60.0   72.000000   E10+         0.01  \n",
       "16703          0.0          68.0   71.263299    NaN         0.01  \n",
       "16704          0.0          68.0         NaN      E         0.01  \n",
       "16705          0.0          63.0   58.000000    NaN         0.01  \n",
       "16706          0.0          68.0         NaN      T         0.01  \n",
       "16707          0.0          68.0   71.263299    NaN         0.01  \n",
       "16708          0.0          68.0   71.263299    NaN         0.01  \n",
       "16709          0.0          68.0   71.263299    NaN         0.00  \n",
       "16710          0.0          68.0   71.263299    NaN         0.01  \n",
       "16711          0.0          68.0   71.263299    NaN         0.01  \n",
       "16712          0.0          68.0   71.263299    NaN         0.01  \n",
       "16713          0.0          68.0   71.263299    NaN         0.01  \n",
       "16714          0.0          68.0   71.263299    NaN         0.01  "
      ]
     },
     "execution_count": 7,
     "metadata": {},
     "output_type": "execute_result"
    }
   ],
   "source": [
    "#multiplicar user score para compararlo con critic score \n",
    "games['user_score'].replace('tbd', np.nan, inplace=True)\n",
    "\n",
    "games[\"user_score\"] = games['user_score'].astype(\"float64\")\n",
    "games[\"user_score\"] = games[\"user_score\"]*10\n",
    "\n",
    "#convertir critic score a float\n",
    "games[\"critic_score\"] = games['critic_score'].astype(\"float64\")\n",
    "games.tail(20)"
   ]
  },
  {
   "cell_type": "markdown",
   "metadata": {},
   "source": [
    "## Paso 3. Analiza los datos"
   ]
  },
  {
   "cell_type": "markdown",
   "metadata": {},
   "source": [
    "### Cuantos juegos salieron en cada año?"
   ]
  },
  {
   "cell_type": "code",
   "execution_count": 8,
   "metadata": {},
   "outputs": [
    {
     "data": {
      "image/png": "[encoded data removed]",
      "text/plain": [
       "<Figure size 432x288 with 1 Axes>"
      ]
     },
     "metadata": {
      "needs_background": "light"
     },
     "output_type": "display_data"
    }
   ],
   "source": [
    "df_year=games.groupby(\"year_of_release\")[\"name\"].count().reset_index()\n",
    "df_year\n",
    "df_year.plot(kind=\"bar\",x=\"year_of_release\",y=\"name\")\n",
    "plt.xlabel(\"año de lanzamiento\")\n",
    "plt.ylabel(\"cantidad de nombres lanzados\")\n",
    "plt.show()"
   ]
  },
  {
   "cell_type": "markdown",
   "metadata": {},
   "source": [
    "estos datos no muestran ningun patron para el analisis"
   ]
  },
  {
   "cell_type": "markdown",
   "metadata": {},
   "source": [
    "<div class=\"alert alert-block alert-danger\">\n",
    "<b>Comentario de Reviewer</b> <a class=\"tocSkip\"></a>\n",
    "\n",
    "Esta data es correcta, pero mejor presentala en un gráfico de barras por ejemplo. A la hora de mostrar resultados como este, es mucho mejor mostrarlos en un gráfico para identificar inmediatamente dónde crecen y dónde disminuyen.\n",
    "</div>"
   ]
  },
  {
   "cell_type": "markdown",
   "metadata": {},
   "source": [
    "<div class=\"alert alert-block alert-success\">\n",
    "<b>Comentario de Reviewer v2</b> <a class=\"tocSkip\"></a>\n",
    "\n",
    "Muy bien, correcto  \n",
    "</div>"
   ]
  },
  {
   "cell_type": "markdown",
   "metadata": {},
   "source": [
    "### cómo varían las ventas de una plataforma a otra"
   ]
  },
  {
   "cell_type": "code",
   "execution_count": 9,
   "metadata": {},
   "outputs": [
    {
     "data": {
      "text/html": [
       "<div>\n",
       "<style scoped>\n",
       "    .dataframe tbody tr th:only-of-type {\n",
       "        vertical-align: middle;\n",
       "    }\n",
       "\n",
       "    .dataframe tbody tr th {\n",
       "        vertical-align: top;\n",
       "    }\n",
       "\n",
       "    .dataframe thead th {\n",
       "        text-align: right;\n",
       "    }\n",
       "</style>\n",
       "<table border=\"1\" class=\"dataframe\">\n",
       "  <thead>\n",
       "    <tr style=\"text-align: right;\">\n",
       "      <th></th>\n",
       "      <th>plataforma</th>\n",
       "      <th>ventas_totales</th>\n",
       "    </tr>\n",
       "  </thead>\n",
       "  <tbody>\n",
       "    <tr>\n",
       "      <th>16</th>\n",
       "      <td>PS2</td>\n",
       "      <td>1233.56</td>\n",
       "    </tr>\n",
       "    <tr>\n",
       "      <th>28</th>\n",
       "      <td>X360</td>\n",
       "      <td>961.24</td>\n",
       "    </tr>\n",
       "    <tr>\n",
       "      <th>17</th>\n",
       "      <td>PS3</td>\n",
       "      <td>931.34</td>\n",
       "    </tr>\n",
       "    <tr>\n",
       "      <th>26</th>\n",
       "      <td>Wii</td>\n",
       "      <td>891.18</td>\n",
       "    </tr>\n",
       "    <tr>\n",
       "      <th>4</th>\n",
       "      <td>DS</td>\n",
       "      <td>802.78</td>\n",
       "    </tr>\n",
       "    <tr>\n",
       "      <th>15</th>\n",
       "      <td>PS</td>\n",
       "      <td>727.58</td>\n",
       "    </tr>\n",
       "    <tr>\n",
       "      <th>18</th>\n",
       "      <td>PS4</td>\n",
       "      <td>314.14</td>\n",
       "    </tr>\n",
       "    <tr>\n",
       "      <th>6</th>\n",
       "      <td>GBA</td>\n",
       "      <td>312.88</td>\n",
       "    </tr>\n",
       "    <tr>\n",
       "      <th>19</th>\n",
       "      <td>PSP</td>\n",
       "      <td>289.53</td>\n",
       "    </tr>\n",
       "    <tr>\n",
       "      <th>2</th>\n",
       "      <td>3DS</td>\n",
       "      <td>257.81</td>\n",
       "    </tr>\n",
       "    <tr>\n",
       "      <th>13</th>\n",
       "      <td>PC</td>\n",
       "      <td>255.76</td>\n",
       "    </tr>\n",
       "    <tr>\n",
       "      <th>5</th>\n",
       "      <td>GB</td>\n",
       "      <td>254.43</td>\n",
       "    </tr>\n",
       "    <tr>\n",
       "      <th>29</th>\n",
       "      <td>XB</td>\n",
       "      <td>251.57</td>\n",
       "    </tr>\n",
       "    <tr>\n",
       "      <th>11</th>\n",
       "      <td>NES</td>\n",
       "      <td>251.05</td>\n",
       "    </tr>\n",
       "    <tr>\n",
       "      <th>10</th>\n",
       "      <td>N64</td>\n",
       "      <td>218.01</td>\n",
       "    </tr>\n",
       "    <tr>\n",
       "      <th>23</th>\n",
       "      <td>SNES</td>\n",
       "      <td>200.04</td>\n",
       "    </tr>\n",
       "    <tr>\n",
       "      <th>7</th>\n",
       "      <td>GC</td>\n",
       "      <td>196.73</td>\n",
       "    </tr>\n",
       "    <tr>\n",
       "      <th>30</th>\n",
       "      <td>XOne</td>\n",
       "      <td>159.32</td>\n",
       "    </tr>\n",
       "    <tr>\n",
       "      <th>0</th>\n",
       "      <td>2600</td>\n",
       "      <td>86.48</td>\n",
       "    </tr>\n",
       "    <tr>\n",
       "      <th>27</th>\n",
       "      <td>WiiU</td>\n",
       "      <td>82.19</td>\n",
       "    </tr>\n",
       "    <tr>\n",
       "      <th>20</th>\n",
       "      <td>PSV</td>\n",
       "      <td>53.81</td>\n",
       "    </tr>\n",
       "    <tr>\n",
       "      <th>21</th>\n",
       "      <td>SAT</td>\n",
       "      <td>33.59</td>\n",
       "    </tr>\n",
       "    <tr>\n",
       "      <th>8</th>\n",
       "      <td>GEN</td>\n",
       "      <td>30.77</td>\n",
       "    </tr>\n",
       "    <tr>\n",
       "      <th>3</th>\n",
       "      <td>DC</td>\n",
       "      <td>15.95</td>\n",
       "    </tr>\n",
       "    <tr>\n",
       "      <th>22</th>\n",
       "      <td>SCD</td>\n",
       "      <td>1.86</td>\n",
       "    </tr>\n",
       "    <tr>\n",
       "      <th>12</th>\n",
       "      <td>NG</td>\n",
       "      <td>1.44</td>\n",
       "    </tr>\n",
       "    <tr>\n",
       "      <th>25</th>\n",
       "      <td>WS</td>\n",
       "      <td>1.42</td>\n",
       "    </tr>\n",
       "    <tr>\n",
       "      <th>24</th>\n",
       "      <td>TG16</td>\n",
       "      <td>0.16</td>\n",
       "    </tr>\n",
       "    <tr>\n",
       "      <th>1</th>\n",
       "      <td>3DO</td>\n",
       "      <td>0.10</td>\n",
       "    </tr>\n",
       "    <tr>\n",
       "      <th>9</th>\n",
       "      <td>GG</td>\n",
       "      <td>0.04</td>\n",
       "    </tr>\n",
       "    <tr>\n",
       "      <th>14</th>\n",
       "      <td>PCFX</td>\n",
       "      <td>0.03</td>\n",
       "    </tr>\n",
       "  </tbody>\n",
       "</table>\n",
       "</div>"
      ],
      "text/plain": [
       "   plataforma  ventas_totales\n",
       "16        PS2         1233.56\n",
       "28       X360          961.24\n",
       "17        PS3          931.34\n",
       "26        Wii          891.18\n",
       "4          DS          802.78\n",
       "15         PS          727.58\n",
       "18        PS4          314.14\n",
       "6         GBA          312.88\n",
       "19        PSP          289.53\n",
       "2         3DS          257.81\n",
       "13         PC          255.76\n",
       "5          GB          254.43\n",
       "29         XB          251.57\n",
       "11        NES          251.05\n",
       "10        N64          218.01\n",
       "23       SNES          200.04\n",
       "7          GC          196.73\n",
       "30       XOne          159.32\n",
       "0        2600           86.48\n",
       "27       WiiU           82.19\n",
       "20        PSV           53.81\n",
       "21        SAT           33.59\n",
       "8         GEN           30.77\n",
       "3          DC           15.95\n",
       "22        SCD            1.86\n",
       "12         NG            1.44\n",
       "25         WS            1.42\n",
       "24       TG16            0.16\n",
       "1         3DO            0.10\n",
       "9          GG            0.04\n",
       "14       PCFX            0.03"
      ]
     },
     "execution_count": 9,
     "metadata": {},
     "output_type": "execute_result"
    }
   ],
   "source": [
    "platform_year_sales = games.groupby(['platform', 'year_of_release'])['total_sales'].sum().reset_index()\n",
    "\n",
    "plataformas_unicas = platform_year_sales['platform'].unique()\n",
    "\n",
    "# crea una lista para almacenar las sumas totales de ventas por plataforma\n",
    "sumas_ventas_por_plataforma = []\n",
    "\n",
    "\n",
    "for plataforma in plataformas_unicas:\n",
    "    ventas_plataforma = platform_year_sales[platform_year_sales['platform'] == plataforma]\n",
    "    suma_ventas = ventas_plataforma['total_sales'].sum()\n",
    "    sumas_ventas_por_plataforma.append((plataforma, suma_ventas))\n",
    "df_sumas_ventas = pd.DataFrame(sumas_ventas_por_plataforma, columns=[\"plataforma\", \"ventas_totales\"])\n",
    "df_sumas_ventas = df_sumas_ventas.sort_values(by=\"ventas_totales\", ascending=False)\n",
    "df_sumas_ventas"
   ]
  },
  {
   "cell_type": "markdown",
   "metadata": {},
   "source": [
    "las plataformas con mayores ventas totales son ps2 ,x360 ,ps3 ,wii y DS"
   ]
  },
  {
   "cell_type": "markdown",
   "metadata": {},
   "source": [
    "<div class=\"alert alert-block alert-warning\">\n",
    "<b>Comentario de Reviewer</b> <a class=\"tocSkip\"></a>\n",
    "\n",
    "Correcto. Aquí también te sugiero un gráfico, aunque es opcional\n",
    "</div>"
   ]
  },
  {
   "cell_type": "markdown",
   "metadata": {},
   "source": [
    "### distribución basada en los datos de cada año"
   ]
  },
  {
   "cell_type": "code",
   "execution_count": 10,
   "metadata": {},
   "outputs": [
    {
     "data": {
      "text/plain": [
       "<Figure size 720x432 with 0 Axes>"
      ]
     },
     "metadata": {},
     "output_type": "display_data"
    },
    {
     "data": {
      "image/png": "[encoded data removed]",
      "text/plain": [
       "<Figure size 432x288 with 1 Axes>"
      ]
     },
     "metadata": {
      "needs_background": "light"
     },
     "output_type": "display_data"
    }
   ],
   "source": [
    "platform_top=[\"PS2\",\"X360\",\"PS3\",\"Wii\",\"DS\"]\n",
    "df_ventas= games[games[\"platform\"].isin(platform_top)]\n",
    "df_filter= df_ventas.groupby([\"platform\",\"year_of_release\"])[\"total_sales\"].sum().reset_index()\n",
    "df_pivot = df_filter.pivot(index='year_of_release', columns='platform', values='total_sales')\n",
    "\n",
    "# Crea un gráfico de barras\n",
    "plt.figure(figsize=(10, 6))  # Tamaño del gráfico\n",
    "\n",
    "# Plotea el gráfico de barras\n",
    "df_pivot.plot(kind='bar')\n",
    "\n",
    "plt.xlabel('Año de Lanzamiento')\n",
    "plt.ylabel('Ventas Totales')\n",
    "plt.title('Ventas por Año para Plataformas top')\n",
    "plt.legend(title='Plataforma')\n",
    "\n",
    "# Muestra el gráfico\n",
    "plt.show()"
   ]
  },
  {
   "cell_type": "markdown",
   "metadata": {},
   "source": [
    "<div class=\"alert alert-block alert-success\">\n",
    "<b>Comentario de Reviewer</b> <a class=\"tocSkip\"></a>\n",
    "\n",
    "Ok, está bien, aunque te sugeriría mejor unos gráficos de línea para esto\n",
    "</div>"
   ]
  },
  {
   "cell_type": "code",
   "execution_count": 11,
   "metadata": {},
   "outputs": [
    {
     "data": {
      "text/plain": [
       "<Figure size 720x432 with 0 Axes>"
      ]
     },
     "metadata": {},
     "output_type": "display_data"
    },
    {
     "data": {
      "image/png": "[encoded data removed]",
      "text/plain": [
       "<Figure size 432x288 with 1 Axes>"
      ]
     },
     "metadata": {
      "needs_background": "light"
     },
     "output_type": "display_data"
    }
   ],
   "source": [
    "#distribucion de DS\n",
    "platform_top=[\"DS\"]\n",
    "df_ventas= games[games[\"platform\"].isin(platform_top)]\n",
    "df_filter= df_ventas.groupby([\"platform\",\"year_of_release\"])[\"total_sales\"].sum().reset_index()\n",
    "df_pivot = df_filter.pivot(index='year_of_release', columns='platform', values='total_sales')\n",
    "\n",
    "# Crea un gráfico de barras\n",
    "plt.figure(figsize=(10, 6))  # Tamaño del gráfico\n",
    "\n",
    "# Plotea el gráfico de barras\n",
    "df_pivot.plot(kind='bar')\n",
    "\n",
    "plt.xlabel('Año de Lanzamiento')\n",
    "plt.ylabel('Ventas Totales')\n",
    "plt.title('Ventas por Año para DS')\n",
    "plt.legend(title='Plataforma')\n",
    "\n",
    "# Muestra el gráfico\n",
    "plt.show()"
   ]
  },
  {
   "cell_type": "code",
   "execution_count": 12,
   "metadata": {},
   "outputs": [
    {
     "data": {
      "text/plain": [
       "<Figure size 720x432 with 0 Axes>"
      ]
     },
     "metadata": {},
     "output_type": "display_data"
    },
    {
     "data": {
      "image/png": "[encoded data removed]",
      "text/plain": [
       "<Figure size 432x288 with 1 Axes>"
      ]
     },
     "metadata": {
      "needs_background": "light"
     },
     "output_type": "display_data"
    }
   ],
   "source": [
    "#distribucion de ps2\n",
    "platform_top=[\"PS2\"]\n",
    "df_ventas= games[games[\"platform\"].isin(platform_top)]\n",
    "df_filter= df_ventas.groupby([\"platform\",\"year_of_release\"])[\"total_sales\"].sum().reset_index()\n",
    "df_pivot = df_filter.pivot(index='year_of_release', columns='platform', values='total_sales')\n",
    "\n",
    "# Crea un gráfico de barras\n",
    "plt.figure(figsize=(10, 6))  # Tamaño del gráfico\n",
    "\n",
    "# Plotea el gráfico de barras\n",
    "df_pivot.plot(kind='bar')\n",
    "\n",
    "plt.xlabel('Año de Lanzamiento')\n",
    "plt.ylabel('Ventas Totales')\n",
    "plt.title(\"Ventas por Año para PS2\")\n",
    "plt.legend(title='Plataforma')\n",
    "\n",
    "# Muestra el gráfico\n",
    "plt.show()"
   ]
  },
  {
   "cell_type": "code",
   "execution_count": 13,
   "metadata": {},
   "outputs": [
    {
     "data": {
      "text/plain": [
       "<Figure size 720x432 with 0 Axes>"
      ]
     },
     "metadata": {},
     "output_type": "display_data"
    },
    {
     "data": {
      "image/png": "[encoded data removed]",
      "text/plain": [
       "<Figure size 432x288 with 1 Axes>"
      ]
     },
     "metadata": {
      "needs_background": "light"
     },
     "output_type": "display_data"
    }
   ],
   "source": [
    "#distribucion de ps3\n",
    "platform_top=[\"PS3\"]\n",
    "df_ventas= games[games[\"platform\"].isin(platform_top)]\n",
    "df_filter= df_ventas.groupby([\"platform\",\"year_of_release\"])[\"total_sales\"].sum().reset_index()\n",
    "df_pivot = df_filter.pivot(index='year_of_release', columns='platform', values='total_sales')\n",
    "\n",
    "# Crea un gráfico de barras\n",
    "plt.figure(figsize=(10, 6))  # Tamaño del gráfico\n",
    "\n",
    "# Plotea el gráfico de barras\n",
    "df_pivot.plot(kind='bar')\n",
    "\n",
    "plt.xlabel('Año de Lanzamiento')\n",
    "plt.ylabel('Ventas Totales')\n",
    "plt.title(\"Ventas por Año para PS3\")\n",
    "plt.legend(title='Plataforma')\n",
    "\n",
    "# Muestra el gráfico\n",
    "plt.show()"
   ]
  },
  {
   "cell_type": "code",
   "execution_count": 14,
   "metadata": {},
   "outputs": [
    {
     "data": {
      "text/plain": [
       "<Figure size 720x432 with 0 Axes>"
      ]
     },
     "metadata": {},
     "output_type": "display_data"
    },
    {
     "data": {
      "image/png": "[encoded data removed]",
      "text/plain": [
       "<Figure size 432x288 with 1 Axes>"
      ]
     },
     "metadata": {
      "needs_background": "light"
     },
     "output_type": "display_data"
    }
   ],
   "source": [
    "#distribucion de wii\n",
    "platform_top=[\"Wii\"]\n",
    "df_ventas= games[games[\"platform\"].isin(platform_top)]\n",
    "df_filter= df_ventas.groupby([\"platform\",\"year_of_release\"])[\"total_sales\"].sum().reset_index()\n",
    "df_pivot = df_filter.pivot(index='year_of_release', columns='platform', values='total_sales')\n",
    "\n",
    "# Crea un gráfico de barras\n",
    "plt.figure(figsize=(10, 6))  # Tamaño del gráfico\n",
    "\n",
    "# Plotea el gráfico de barras\n",
    "df_pivot.plot(kind='bar')\n",
    "\n",
    "plt.xlabel('Año de Lanzamiento')\n",
    "plt.ylabel('Ventas Totales')\n",
    "plt.title(\"Ventas por Año para wii\")\n",
    "plt.legend(title='Plataforma')\n",
    "\n",
    "# Muestra el gráfico\n",
    "plt.show()"
   ]
  },
  {
   "cell_type": "code",
   "execution_count": 15,
   "metadata": {},
   "outputs": [
    {
     "data": {
      "text/plain": [
       "<Figure size 720x432 with 0 Axes>"
      ]
     },
     "metadata": {},
     "output_type": "display_data"
    },
    {
     "data": {
      "image/png": "[encoded data removed]",
      "text/plain": [
       "<Figure size 432x288 with 1 Axes>"
      ]
     },
     "metadata": {
      "needs_background": "light"
     },
     "output_type": "display_data"
    }
   ],
   "source": [
    "#distribucion de x360\n",
    "platform_top=[\"X360\"]\n",
    "df_ventas= games[games[\"platform\"].isin(platform_top)]\n",
    "df_filter= df_ventas.groupby([\"platform\",\"year_of_release\"])[\"total_sales\"].sum().reset_index()\n",
    "df_pivot = df_filter.pivot(index='year_of_release', columns='platform', values='total_sales')\n",
    "\n",
    "# Crea un gráfico de barras\n",
    "plt.figure(figsize=(10, 6))  # Tamaño del gráfico\n",
    "\n",
    "# Plotea el gráfico de barras\n",
    "df_pivot.plot(kind='bar')\n",
    "\n",
    "plt.xlabel('Año de Lanzamiento')\n",
    "plt.ylabel('Ventas Totales')\n",
    "plt.title(\"Ventas por Año para x360\")\n",
    "plt.legend(title='Plataforma')\n",
    "\n",
    "# Muestra el gráfico\n",
    "plt.show()"
   ]
  },
  {
   "cell_type": "markdown",
   "metadata": {},
   "source": [
    "<div class=\"alert alert-block alert-success\">\n",
    "<b>Comentario de Reviewer</b> <a class=\"tocSkip\"></a>\n",
    "\n",
    "Muy bien con los gráficos de cada plataforma\n",
    "</div>"
   ]
  },
  {
   "cell_type": "markdown",
   "metadata": {},
   "source": [
    "### plataformas que solían ser populares pero que ahora no tienen ventas"
   ]
  },
  {
   "cell_type": "code",
   "execution_count": 16,
   "metadata": {},
   "outputs": [
    {
     "name": "stdout",
     "output_type": "stream",
     "text": [
      "                                                    name platform  \\\n",
      "2782                                             FIFA 17      PS3   \n",
      "5010                                             FIFA 17     X360   \n",
      "5689                              LEGO Marvel's Avengers     X360   \n",
      "6355                              LEGO Marvel's Avengers      PS3   \n",
      "7727                                    MLB 16: The Show      PS3   \n",
      "8009                                     Just Dance 2017      Wii   \n",
      "8265                                       Madden NFL 17     X360   \n",
      "8566                   Lego Star Wars: The Force Awakens      PS3   \n",
      "9132                                            WWE 2K17      PS3   \n",
      "9360   Dragon Quest Heroes II: Twin Kings and the Pro...      PS3   \n",
      "9465                           Pro Evolution Soccer 2017      PS3   \n",
      "9629                                            NBA 2K17      PS3   \n",
      "9806                   Lego Star Wars: The Force Awakens     X360   \n",
      "9833              Dragon Quest Builders: Revive Alefgard      PS3   \n",
      "9856                                       Yakuza Kiwami      PS3   \n",
      "9861                                            NBA 2K17     X360   \n",
      "9887                                   Tales of Berseria      PS3   \n",
      "9954                  Jikkyou Powerful Pro Baseball 2016      PS3   \n",
      "9970                                       Madden NFL 17      PS3   \n",
      "10029                                          Persona 5      PS3   \n",
      "10371                                           WWE 2K17     X360   \n",
      "10403                             Skylanders Imaginators      PS3   \n",
      "11081                             Skylanders Imaginators     X360   \n",
      "11578                                     UEFA Euro 2016      PS3   \n",
      "12074                        Guilty Gear Xrd -Revelator-      PS3   \n",
      "12382             Super Robot Wars OG: The Moon Dwellers      PS3   \n",
      "12387                           Odin Sphere: Leifthrasir      PS3   \n",
      "12493                             Attack on Titan (KOEI)      PS3   \n",
      "12670                           BlazBlue Central Fiction      PS3   \n",
      "12925                     Batman: A Telltale Game Series      PS3   \n",
      "13037  Teenage Mutant Ninja Turtles: Mutants in Manha...      PS3   \n",
      "13436                                    Just Dance 2017      PS3   \n",
      "13543                  Kamen Rider: Battride War Genesis      PS3   \n",
      "13617  Teenage Mutant Ninja Turtles: Mutants in Manha...     X360   \n",
      "13642          Star Ocean 5: Integrity and Faithlessness      PS3   \n",
      "13751               Call of Duty: Modern Warfare Trilogy     X360   \n",
      "14046  Nobunaga's Ambition: Sphere of Influence - Sen...      PS3   \n",
      "14090                                    Just Dance 2017     X360   \n",
      "14098                          Pro Evolution Soccer 2017     X360   \n",
      "14356                     Batman: A Telltale Game Series     X360   \n",
      "14801                Sengoku Basara: Sanada Yukimura-Den      PS3   \n",
      "14851                                  Rugby Challenge 3      PS3   \n",
      "14947  TV Anime Idolm@ster: Cinderella Girls G4U! Pac...      PS3   \n",
      "15129                 Aegis of Earth: Protonovus Assault      PS3   \n",
      "15142                                  Rugby Challenge 3     X360   \n",
      "15143                                         Toukiden 2      PS3   \n",
      "15184                   Utawarerumono: Futari no Hakuoro      PS3   \n",
      "15273               Call of Duty: Modern Warfare Trilogy      PS3   \n",
      "15620  TV Anime Idolm@ster: Cinderella Girls G4U! Pac...      PS3   \n",
      "16558  Naruto Shippuden: Ultimate Ninja Storm Collection      PS3   \n",
      "16691                       Dynasty Warriors: Eiketsuden      PS3   \n",
      "16710                      Samurai Warriors: Sanada Maru      PS3   \n",
      "\n",
      "       year_of_release         genre  na_sales  eu_sales  jp_sales  \\\n",
      "2782              2016        Sports      0.05      0.55      0.03   \n",
      "5010              2016        Sports      0.07      0.28      0.00   \n",
      "5689              2016        Action      0.18      0.11      0.00   \n",
      "6355              2016        Action      0.10      0.12      0.00   \n",
      "7727              2016        Action      0.16      0.00      0.00   \n",
      "8009              2016          Misc      0.06      0.11      0.00   \n",
      "8265              2016        Sports      0.14      0.02      0.00   \n",
      "8566              2016        Action      0.04      0.10      0.00   \n",
      "9132              2016        Sports      0.05      0.07      0.00   \n",
      "9360              2016        Action      0.00      0.00      0.13   \n",
      "9465              2016        Sports      0.01      0.05      0.06   \n",
      "9629              2016        Sports      0.06      0.04      0.00   \n",
      "9806              2016        Action      0.05      0.06      0.00   \n",
      "9833              2016  Role-Playing      0.00      0.00      0.12   \n",
      "9856              2016     Adventure      0.00      0.00      0.12   \n",
      "9861              2016        Sports      0.09      0.02      0.00   \n",
      "9887              2016  Role-Playing      0.00      0.00      0.12   \n",
      "9954              2016        Sports      0.00      0.00      0.12   \n",
      "9970              2016        Sports      0.07      0.02      0.00   \n",
      "10029             2016  Role-Playing      0.00      0.00      0.11   \n",
      "10371             2016        Sports      0.05      0.04      0.00   \n",
      "10403             2016      Platform      0.02      0.07      0.00   \n",
      "11081             2016      Platform      0.04      0.05      0.00   \n",
      "11578             2016        Sports      0.00      0.04      0.03   \n",
      "12074             2016      Fighting      0.02      0.02      0.03   \n",
      "12382             2016          Misc      0.00      0.00      0.06   \n",
      "12387             2016  Role-Playing      0.02      0.01      0.03   \n",
      "12493             2016        Action      0.00      0.00      0.06   \n",
      "12670             2016      Fighting      0.02      0.02      0.02   \n",
      "12925             2016     Adventure      0.01      0.04      0.00   \n",
      "13037             2016        Action      0.01      0.03      0.00   \n",
      "13436             2016          Misc      0.01      0.03      0.00   \n",
      "13543             2016        Action      0.00      0.00      0.04   \n",
      "13617             2016        Action      0.01      0.03      0.00   \n",
      "13642             2016  Role-Playing      0.00      0.00      0.04   \n",
      "13751             2016       Shooter      0.02      0.02      0.00   \n",
      "14046             2016          Misc      0.00      0.00      0.04   \n",
      "14090             2016          Misc      0.02      0.02      0.00   \n",
      "14098             2016        Sports      0.01      0.02      0.00   \n",
      "14356             2016     Adventure      0.01      0.02      0.00   \n",
      "14801             2016        Action      0.00      0.00      0.03   \n",
      "14851             2016        Sports      0.00      0.02      0.00   \n",
      "14947             2016          Misc      0.00      0.00      0.03   \n",
      "15129             2016        Action      0.01      0.01      0.00   \n",
      "15142             2016        Sports      0.00      0.02      0.00   \n",
      "15143             2016        Action      0.00      0.00      0.02   \n",
      "15184             2016          Misc      0.00      0.00      0.02   \n",
      "15273             2016       Shooter      0.01      0.01      0.00   \n",
      "15620             2016          Misc      0.00      0.00      0.02   \n",
      "16558             2016        Action      0.00      0.01      0.00   \n",
      "16691             2016        Action      0.00      0.00      0.01   \n",
      "16710             2016        Action      0.00      0.00      0.01   \n",
      "\n",
      "       other_sales  critic_score  user_score rating  total_sales  \n",
      "2782          0.10          68.0   33.000000      E         0.73  \n",
      "5010          0.03          68.0   17.000000      E         0.38  \n",
      "5689          0.03          68.0   57.000000   E10+         0.32  \n",
      "6355          0.04          68.0   55.000000   E10+         0.26  \n",
      "7727          0.04          68.0   71.263299    NaN         0.20  \n",
      "8009          0.01          68.0         NaN   E10+         0.18  \n",
      "8265          0.02          68.0    7.000000      E         0.18  \n",
      "8566          0.03          68.0         NaN   E10+         0.17  \n",
      "9132          0.02          68.0   41.000000      T         0.14  \n",
      "9360          0.00          68.0   71.263299    NaN         0.13  \n",
      "9465          0.01          68.0   72.000000      E         0.13  \n",
      "9629          0.02          68.0   20.000000      E         0.12  \n",
      "9806          0.01          68.0   69.000000   E10+         0.12  \n",
      "9833          0.00          68.0   71.263299    NaN         0.12  \n",
      "9856          0.00          68.0   71.263299    NaN         0.12  \n",
      "9861          0.01          68.0   34.000000      E         0.12  \n",
      "9887          0.00          68.0   71.263299    NaN         0.12  \n",
      "9954          0.00          68.0   71.263299    NaN         0.12  \n",
      "9970          0.02          68.0    2.000000      E         0.11  \n",
      "10029         0.00          68.0   71.263299    NaN         0.11  \n",
      "10371         0.01          68.0         NaN      T         0.10  \n",
      "10403         0.02          68.0         NaN   E10+         0.11  \n",
      "11081         0.01          68.0         NaN   E10+         0.10  \n",
      "11578         0.01          68.0   71.263299    NaN         0.08  \n",
      "12074         0.01          68.0   71.263299    NaN         0.08  \n",
      "12382         0.00          68.0   71.263299    NaN         0.06  \n",
      "12387         0.01          68.0   70.000000      T         0.07  \n",
      "12493         0.00          68.0   71.263299    NaN         0.06  \n",
      "12670         0.01          68.0         NaN      T         0.07  \n",
      "12925         0.01          68.0   71.263299    NaN         0.06  \n",
      "13037         0.01          68.0   34.000000      T         0.05  \n",
      "13436         0.01          68.0         NaN   E10+         0.05  \n",
      "13543         0.00          68.0   71.263299    NaN         0.04  \n",
      "13617         0.00          68.0   43.000000      T         0.04  \n",
      "13642         0.00          68.0   71.263299    NaN         0.04  \n",
      "13751         0.00          68.0         NaN      M         0.04  \n",
      "14046         0.00          68.0   71.263299    NaN         0.04  \n",
      "14090         0.00          68.0         NaN   E10+         0.04  \n",
      "14098         0.00          68.0   65.000000      E         0.03  \n",
      "14356         0.00          68.0   71.263299    NaN         0.03  \n",
      "14801         0.00          68.0   71.263299    NaN         0.03  \n",
      "14851         0.00          68.0         NaN    NaN         0.02  \n",
      "14947         0.00          68.0   71.263299    NaN         0.03  \n",
      "15129         0.00          68.0         NaN      T         0.02  \n",
      "15142         0.00          68.0         NaN      E         0.02  \n",
      "15143         0.00          68.0   71.263299    NaN         0.02  \n",
      "15184         0.00          68.0   71.263299    NaN         0.02  \n",
      "15273         0.00          68.0   70.000000      M         0.02  \n",
      "15620         0.00          68.0   71.263299    NaN         0.02  \n",
      "16558         0.00          68.0   71.263299    NaN         0.01  \n",
      "16691         0.00          68.0   71.263299    NaN         0.01  \n",
      "16710         0.00          68.0   71.263299    NaN         0.01  \n"
     ]
    }
   ],
   "source": [
    "platform_top=[\"PS2\",\"X360\",\"PS3\",\"Wii\",\"DS\"]\n",
    "df_ventas= games[games[\"platform\"].isin(platform_top)]\n",
    "df_ventas_2015 = df_ventas[df_ventas[\"year_of_release\"]==2015]\n",
    "df_ventas_2016 = df_ventas[df_ventas[\"year_of_release\"]==2016]\n",
    "\n",
    "\n",
    "print(df_ventas_2016)"
   ]
  },
  {
   "cell_type": "markdown",
   "metadata": {},
   "source": [
    "Las plataformas que solian ser populares ,ahora ya no tienen ventas y excepto por ps3 y xone "
   ]
  },
  {
   "cell_type": "markdown",
   "metadata": {},
   "source": [
    "<div class=\"alert alert-block alert-success\">\n",
    "<b>Comentario de Reviewer</b> <a class=\"tocSkip\"></a>\n",
    "\n",
    "Ok, correcto.\n",
    "</div>"
   ]
  },
  {
   "cell_type": "markdown",
   "metadata": {},
   "source": [
    "### ¿Cuánto tardan generalmente las nuevas plataformas en aparecer y las antiguas en desaparecer?"
   ]
  },
  {
   "cell_type": "code",
   "execution_count": 17,
   "metadata": {},
   "outputs": [
    {
     "name": "stdout",
     "output_type": "stream",
     "text": [
      "11.285714285714286\n"
     ]
    }
   ],
   "source": [
    "#determinar la ultima vez que sa saco un juego en esa plataforma\n",
    "df_old=games.groupby(\"platform\")[\"year_of_release\"].max()\n",
    "df_old\n",
    "#poner las plataformas antiguas en una lista\n",
    "no_sales=[\"DC\",\"DS\",\"GBA\",\"GC\",\"PS\",\"PS2\",\"XB\"]\n",
    "\n",
    "platform_forget = games[games[\"platform\"].isin(no_sales)]\n",
    "platform_forget = platform_forget.groupby(\"platform\")[\"year_of_release\"].agg([\"min\",\"max\"])\n",
    "life_old_platform = platform_forget[\"max\"]-platform_forget[\"min\"]\n",
    "life_old_platform = life_old_platform.mean()\n",
    "print(life_old_platform)"
   ]
  },
  {
   "cell_type": "markdown",
   "metadata": {},
   "source": [
    "El promedio de las plataformas antiguas en desaparecer es 7 años"
   ]
  },
  {
   "cell_type": "markdown",
   "metadata": {},
   "source": [
    "<div class=\"alert alert-block alert-success\">\n",
    "<b>Comentario de Reviewer</b> <a class=\"tocSkip\"></a>\n",
    "\n",
    "Muy bien\n",
    "</div>"
   ]
  },
  {
   "cell_type": "code",
   "execution_count": 18,
   "metadata": {},
   "outputs": [
    {
     "name": "stdout",
     "output_type": "stream",
     "text": [
      "platform\n",
      "2600    1980\n",
      "NES     1983\n",
      "DS      1985\n",
      "PC      1985\n",
      "GB      1988\n",
      "SNES    1990\n",
      "GEN     1990\n",
      "GG      1992\n",
      "SCD     1993\n",
      "NG      1993\n",
      "SAT     1994\n",
      "PS      1994\n",
      "3DO     1994\n",
      "TG16    1995\n",
      "PCFX    1996\n",
      "N64     1996\n",
      "DC      1998\n",
      "WS      1999\n",
      "GBA     2000\n",
      "XB      2000\n",
      "PS2     2000\n",
      "GC      2001\n",
      "PSP     2004\n",
      "X360    2005\n",
      "PS3     2006\n",
      "Wii     2006\n",
      "3DS     2011\n",
      "PSV     2011\n",
      "WiiU    2012\n",
      "PS4     2013\n",
      "XOne    2013\n",
      "Name: year_of_release, dtype: int64\n"
     ]
    },
    {
     "data": {
      "text/plain": [
       "27.0"
      ]
     },
     "execution_count": 18,
     "metadata": {},
     "output_type": "execute_result"
    }
   ],
   "source": [
    "#determinar cuanto tardan generalmente las nuevas plataformas en aparecer\n",
    "first_year = 1985\n",
    "\n",
    "#determinar las nuevas plataformas\n",
    "year = games.groupby(\"platform\")[\"year_of_release\"].min().sort_values()\n",
    "new_generation = [\"XOne\",\"PS4\",\"WiiU\",\"PSV\",\"3DS\"]\n",
    "print(year)\n",
    "new_platform =games[games[\"platform\"].isin(new_generation)]\n",
    "new_platform= new_platform.groupby(\"platform\")[\"year_of_release\"].agg(min).reset_index()\n",
    "show_platform =(new_platform[\"year_of_release\"]-first_year).mean()\n",
    "show_platform"
   ]
  },
  {
   "cell_type": "markdown",
   "metadata": {},
   "source": [
    "generalmente las nueva plataformas tardan en aparecer 27 años"
   ]
  },
  {
   "cell_type": "markdown",
   "metadata": {},
   "source": [
    "<div class=\"alert alert-block alert-warning\">\n",
    "<b>Comentario de Reviewer</b> <a class=\"tocSkip\"></a>\n",
    "\n",
    "Ok, esto no es incorrecto pero no se interpreta muy bien. Lo que quieres decir es que han pasado 27 años desde 1985 hasta que apareció la primera de las plataformas en la lista de las \"nuevas\" plataformas.\n",
    "</div>"
   ]
  },
  {
   "cell_type": "markdown",
   "metadata": {},
   "source": [
    "### Determina para qué período debes tomar datos."
   ]
  },
  {
   "cell_type": "markdown",
   "metadata": {},
   "source": [
    "Segun el analisis anterior el periodo para tomar los datos tiene que ser desde el 2011 donde salen dos plataformas nuevas como 3DS y PSV"
   ]
  },
  {
   "cell_type": "markdown",
   "metadata": {},
   "source": [
    "<div class=\"alert alert-block alert-danger\">\n",
    "<b>Comentario de Reviewer</b> <a class=\"tocSkip\"></a>\n",
    "\n",
    "El objetivo del análisis en este notebook es determinar información para poder hacer un modelo de predicción para el 2017, en ese caso, la data de principios del 2011 no tiene mucha utilidad, contiene plataformas que ya no existen, tendencias que ya no están, etc. En general nunca es bueno tener más de 3 o 4 años, y en una industria como los videojuegos probablemente es mejor tener 3 solamente.\n",
    "    \n",
    "Los siguientes resultados los juzgaré con esta data, pero ten en cuenta que se debe filtrar la data de forma de quedarse solamente con los últimos 2 o 3 años.\n",
    "</div>"
   ]
  },
  {
   "cell_type": "markdown",
   "metadata": {},
   "source": [
    "<div class=\"alert alert-block alert-warning\">\n",
    "<b>Comentario de Reviewer v2</b> <a class=\"tocSkip\"></a>\n",
    "\n",
    "Ojo con esto, la cantidad de años a considerar es importante!\n",
    "</div>"
   ]
  },
  {
   "cell_type": "markdown",
   "metadata": {},
   "source": [
    "### ¿Qué plataformas son líderes en ventas?"
   ]
  },
  {
   "cell_type": "code",
   "execution_count": 19,
   "metadata": {},
   "outputs": [
    {
     "data": {
      "text/html": [
       "<div>\n",
       "<style scoped>\n",
       "    .dataframe tbody tr th:only-of-type {\n",
       "        vertical-align: middle;\n",
       "    }\n",
       "\n",
       "    .dataframe tbody tr th {\n",
       "        vertical-align: top;\n",
       "    }\n",
       "\n",
       "    .dataframe thead th {\n",
       "        text-align: right;\n",
       "    }\n",
       "</style>\n",
       "<table border=\"1\" class=\"dataframe\">\n",
       "  <thead>\n",
       "    <tr style=\"text-align: right;\">\n",
       "      <th></th>\n",
       "      <th>platform</th>\n",
       "      <th>total_sales</th>\n",
       "    </tr>\n",
       "  </thead>\n",
       "  <tbody>\n",
       "    <tr>\n",
       "      <th>3</th>\n",
       "      <td>PS2</td>\n",
       "      <td>0.45</td>\n",
       "    </tr>\n",
       "    <tr>\n",
       "      <th>6</th>\n",
       "      <td>PSP</td>\n",
       "      <td>29.01</td>\n",
       "    </tr>\n",
       "    <tr>\n",
       "      <th>1</th>\n",
       "      <td>DS</td>\n",
       "      <td>38.73</td>\n",
       "    </tr>\n",
       "    <tr>\n",
       "      <th>7</th>\n",
       "      <td>PSV</td>\n",
       "      <td>53.81</td>\n",
       "    </tr>\n",
       "    <tr>\n",
       "      <th>9</th>\n",
       "      <td>WiiU</td>\n",
       "      <td>82.19</td>\n",
       "    </tr>\n",
       "    <tr>\n",
       "      <th>8</th>\n",
       "      <td>Wii</td>\n",
       "      <td>95.02</td>\n",
       "    </tr>\n",
       "    <tr>\n",
       "      <th>2</th>\n",
       "      <td>PC</td>\n",
       "      <td>97.68</td>\n",
       "    </tr>\n",
       "    <tr>\n",
       "      <th>11</th>\n",
       "      <td>XOne</td>\n",
       "      <td>159.32</td>\n",
       "    </tr>\n",
       "    <tr>\n",
       "      <th>0</th>\n",
       "      <td>3DS</td>\n",
       "      <td>257.81</td>\n",
       "    </tr>\n",
       "    <tr>\n",
       "      <th>5</th>\n",
       "      <td>PS4</td>\n",
       "      <td>314.14</td>\n",
       "    </tr>\n",
       "    <tr>\n",
       "      <th>10</th>\n",
       "      <td>X360</td>\n",
       "      <td>380.38</td>\n",
       "    </tr>\n",
       "    <tr>\n",
       "      <th>4</th>\n",
       "      <td>PS3</td>\n",
       "      <td>445.57</td>\n",
       "    </tr>\n",
       "  </tbody>\n",
       "</table>\n",
       "</div>"
      ],
      "text/plain": [
       "   platform  total_sales\n",
       "3       PS2         0.45\n",
       "6       PSP        29.01\n",
       "1        DS        38.73\n",
       "7       PSV        53.81\n",
       "9      WiiU        82.19\n",
       "8       Wii        95.02\n",
       "2        PC        97.68\n",
       "11     XOne       159.32\n",
       "0       3DS       257.81\n",
       "5       PS4       314.14\n",
       "10     X360       380.38\n",
       "4       PS3       445.57"
      ]
     },
     "execution_count": 19,
     "metadata": {},
     "output_type": "execute_result"
    }
   ],
   "source": [
    "years_analityc = [2011,2012,2013,2014,2015,2016]\n",
    "sales = games[games[\"year_of_release\"].isin(years_analityc)]\n",
    "platform_year_sales = sales.groupby('platform')['total_sales'].sum().reset_index().sort_values(by=\"total_sales\")\n",
    "platform_year_sales"
   ]
  },
  {
   "cell_type": "markdown",
   "metadata": {},
   "source": [
    "Las plataformas lideres en ventas son ps3,x360,ps4,xone y 3ds"
   ]
  },
  {
   "cell_type": "markdown",
   "metadata": {},
   "source": [
    "<div class=\"alert alert-block alert-success\">\n",
    "<b>Comentario de Reviewer</b> <a class=\"tocSkip\"></a>\n",
    "\n",
    "Correcto\n",
    "</div>"
   ]
  },
  {
   "cell_type": "markdown",
   "metadata": {},
   "source": [
    "### ¿Cuáles crecen y cuáles se reducen?"
   ]
  },
  {
   "cell_type": "code",
   "execution_count": 20,
   "metadata": {},
   "outputs": [
    {
     "data": {
      "image/png": "[encoded data removed]",
      "text/plain": [
       "<Figure size 720x432 with 1 Axes>"
      ]
     },
     "metadata": {
      "needs_background": "light"
     },
     "output_type": "display_data"
    }
   ],
   "source": [
    "# Agrupa los datos por año y consola y suma las ventas totales\n",
    "grouped_data = sales.groupby(['year_of_release', 'platform'])['total_sales'].sum().unstack()\n",
    "\n",
    "# Plotea el gráfico de líneas\n",
    "grouped_data.plot(kind='line', marker='o', figsize=(10, 6))\n",
    "\n",
    "# Personaliza el gráfico\n",
    "plt.title('Ventas Totales por Año y Consola')\n",
    "plt.xlabel('Año de Lanzamiento')\n",
    "plt.ylabel('Ventas Totales (en millones)')\n",
    "plt.legend(title='Consola', loc='upper left')\n",
    "\n",
    "# Muestra el gráfico\n",
    "plt.show()"
   ]
  },
  {
   "cell_type": "markdown",
   "metadata": {},
   "source": [
    "de todas las plataformas las que reducen sus ventas son ps3 , x360, 3ds y pc , y generalmente no aumentan al final en 2016 pero las que serian superiores en ventas al final serian ps4 y xone ; y junto con wiiu estan serian potencialmente rentables"
   ]
  },
  {
   "cell_type": "markdown",
   "metadata": {},
   "source": [
    "<div class=\"alert alert-block alert-success\">\n",
    "<b>Comentario de Reviewer</b> <a class=\"tocSkip\"></a>\n",
    "\n",
    "Correcto\n",
    "</div>"
   ]
  },
  {
   "cell_type": "markdown",
   "metadata": {},
   "source": [
    "### Crea un diagrama de caja para las ventas globales de todos los juegos, desglosados por plataforma"
   ]
  },
  {
   "cell_type": "code",
   "execution_count": 21,
   "metadata": {},
   "outputs": [
    {
     "data": {
      "image/png": "[encoded data removed]",
      "text/plain": [
       "<Figure size 432x288 with 1 Axes>"
      ]
     },
     "metadata": {
      "needs_background": "light"
     },
     "output_type": "display_data"
    }
   ],
   "source": [
    "\n",
    "sales.boxplot(column=\"total_sales\", by=\"platform\", showfliers = False)\n",
    "plt.xlabel('Plataforma')\n",
    "plt.ylabel('Ventas Globales')\n",
    "plt.title('Ventas Globales de Juegos por Plataforma')\n",
    "plt.xticks(rotation=90)\n",
    "plt.show()\n"
   ]
  },
  {
   "cell_type": "markdown",
   "metadata": {},
   "source": [
    "por lo que se ve en la diagrama de cajas las difernecias son significativas por cada plataforma "
   ]
  },
  {
   "cell_type": "markdown",
   "metadata": {},
   "source": [
    "<div class=\"alert alert-block alert-warning\">\n",
    "<b>Comentario de Reviewer</b> <a class=\"tocSkip\"></a>\n",
    "\n",
    "Ok, bien aunque podrías haber ahondado más en los comentarios. Nota por ejemplo que todas parecen estar concentradas en la parte baja de ls distribución, es decir, son distribuciones asimétricas más cargadas a los valores menores a 0.5.\n",
    "</div>"
   ]
  },
  {
   "cell_type": "markdown",
   "metadata": {},
   "source": [
    "### ¿Son significativas las diferencias en las ventas? ¿Qué sucede con las ventas promedio en varias plataformas? "
   ]
  },
  {
   "cell_type": "markdown",
   "metadata": {},
   "source": [
    "tomando en cuenta que las ventas son en millones de dolares hay diferencias significativas en las ventas de las plataformas debido a que algunas pasan las 2.5 millones y otras no llegan al millon."
   ]
  },
  {
   "cell_type": "code",
   "execution_count": 22,
   "metadata": {},
   "outputs": [
    {
     "name": "stdout",
     "output_type": "stream",
     "text": [
      "Correlación de score de Críticos vs. Ventas: 0.312825148546592\n",
      "Correlación de score de Usuarios vs. Ventas: -0.01345142352641373\n"
     ]
    },
    {
     "data": {
      "image/png": "[encoded data removed]",
      "text/plain": [
       "<Figure size 432x288 with 1 Axes>"
      ]
     },
     "metadata": {
      "needs_background": "light"
     },
     "output_type": "display_data"
    }
   ],
   "source": [
    "plt.scatter(sales['critic_score'], sales['total_sales'], alpha=0.5, label='Críticos')\n",
    "plt.scatter(sales['user_score'], sales['total_sales'], alpha=0.3, label='Usuarios')\n",
    "plt.xlabel('Puntuación de Crítica y Usuario')\n",
    "plt.ylabel('Ventas Globales ')\n",
    "plt.title('Gráfico de Dispersión de Reseñas vs. Ventas')\n",
    "plt.legend()\n",
    "\n",
    "# Calcular la correlación entre reseñas y ventas\n",
    "correlation_critic = sales['critic_score'].corr(sales['total_sales'])\n",
    "correlation_user = sales['user_score'].corr(sales['total_sales'])\n",
    "\n",
    "print(f\"Correlación de score de Críticos vs. Ventas: {correlation_critic}\")\n",
    "print(f\"Correlación de score de Usuarios vs. Ventas: {correlation_user}\")\n",
    "\n",
    "plt.show()"
   ]
  },
  {
   "cell_type": "markdown",
   "metadata": {},
   "source": [
    "segun la comparativa de correlaciones se ve que las valoraciones de los criticos afecta mas a las ventas que las valoraciones de los usuarios, pero no veo una diferencia tan marcada en el grafico"
   ]
  },
  {
   "cell_type": "markdown",
   "metadata": {},
   "source": [
    "<div class=\"alert alert-block alert-success\">\n",
    "<b>Comentario de Reviewer</b> <a class=\"tocSkip\"></a>\n",
    "\n",
    "Correcto. De forma adicional se puede calcular el coeficiente de correlación.\n",
    "</div>"
   ]
  },
  {
   "cell_type": "markdown",
   "metadata": {},
   "source": [
    " ###  compara las ventas de los mismos juegos en otras plataformas"
   ]
  },
  {
   "cell_type": "code",
   "execution_count": 23,
   "metadata": {},
   "outputs": [
    {
     "data": {
      "image/png": "[encoded data removed]",
      "text/plain": [
       "<Figure size 432x288 with 1 Axes>"
      ]
     },
     "metadata": {
      "needs_background": "light"
     },
     "output_type": "display_data"
    }
   ],
   "source": [
    "#encontrar juegos que aparezcan en dos o mas plataformas o plataformas que tengan los mismos juegos\n",
    "games_comuns = games['name'].value_counts()[games['name'].value_counts() > 1].index\n",
    "# Filtra el DataFrame para incluir solo los juegos comunes\n",
    "df_comunes = games[games['name'].isin(games_comuns)]\n",
    "# Agrupa los datos por juego y plataforma, y calcula las ventas totales\n",
    "df_group = df_comunes.groupby(\"platform\")[\"total_sales\"].sum()\n",
    "\n",
    "df_group.plot(kind='bar')\n",
    "plt.xlabel('Consola')\n",
    "plt.ylabel('Ventas Globales')\n",
    "plt.title('Comparación de Ventas de Juegos Comunes en Diferentes Plataformas')\n",
    "plt.legend(title='Plataforma')\n",
    "plt.xticks(rotation=90)\n",
    "plt.show()"
   ]
  },
  {
   "cell_type": "markdown",
   "metadata": {},
   "source": [
    "dentro de los juegos que fueron lanzados para varias plataformas las que mejor se venden fueron en las siguientes consolas : ps2, ps3 y x360"
   ]
  },
  {
   "cell_type": "markdown",
   "metadata": {},
   "source": [
    "<div class=\"alert alert-block alert-success\">\n",
    "<b>Comentario de Reviewer</b> <a class=\"tocSkip\"></a>\n",
    "\n",
    "Ok, muy bien, las consolas más dominantes lo son incluso en los juegos comunes.\n",
    "</div>"
   ]
  },
  {
   "cell_type": "markdown",
   "metadata": {},
   "source": [
    "### ¿Qué se puede decir de los géneros más rentables? ¿Puedes generalizar acerca de los géneros con ventas altas y bajas?"
   ]
  },
  {
   "cell_type": "code",
   "execution_count": 24,
   "metadata": {},
   "outputs": [
    {
     "data": {
      "image/png": "[encoded data removed]",
      "text/plain": [
       "<Figure size 432x288 with 1 Axes>"
      ]
     },
     "metadata": {
      "needs_background": "light"
     },
     "output_type": "display_data"
    }
   ],
   "source": [
    "\n",
    "sales.boxplot(column=\"total_sales\", by=\"genre\", showfliers = False)\n",
    "plt.xlabel('genero')\n",
    "plt.ylabel('Ventas Globales')\n",
    "plt.title('Ventas Globales de Juegos por generos')\n",
    "plt.xticks(rotation=90)\n",
    "plt.show()"
   ]
  },
  {
   "cell_type": "markdown",
   "metadata": {},
   "source": [
    "<div class=\"alert alert-block alert-danger\">\n",
    "<b>Comentario de Reviewer</b> <a class=\"tocSkip\"></a>\n",
    "\n",
    "Para esta parte además revisa la distribución de los juegos de cada género. Grafica un boxplot por género (similar a como hiciste por plataforma en la parte 3.9)\n",
    "</div>"
   ]
  },
  {
   "cell_type": "markdown",
   "metadata": {},
   "source": [
    "<div class=\"alert alert-block alert-success\">\n",
    "<b>Comentario de Reviewer v2</b> <a class=\"tocSkip\"></a>\n",
    "\n",
    "Muy bien, correcto  \n",
    "</div>"
   ]
  },
  {
   "cell_type": "code",
   "execution_count": 32,
   "metadata": {},
   "outputs": [
    {
     "data": {
      "image/png": "[encoded data removed]",
      "text/plain": [
       "<Figure size 432x288 with 1 Axes>"
      ]
     },
     "metadata": {
      "needs_background": "light"
     },
     "output_type": "display_data"
    }
   ],
   "source": [
    "df_grouped = games.groupby(\"genre\")[\"total_sales\"].mean()\n",
    "df_grouped.plot(kind='bar')\n",
    "plt.xlabel('genero')\n",
    "plt.ylabel('promedio de Ventas Globales')\n",
    "plt.title('Rentabilidad por genero')\n",
    "plt.legend(title='Plataforma')\n",
    "plt.xticks(rotation=90)\n",
    "plt.show()"
   ]
  },
  {
   "cell_type": "markdown",
   "metadata": {},
   "source": [
    "los genros mas rentables son platform y shooter, ahora no se puede generalizar con respecto a estos porque son muy diferentes "
   ]
  },
  {
   "cell_type": "code",
   "execution_count": 34,
   "metadata": {},
   "outputs": [
    {
     "data": {
      "image/png": "[encoded data removed]",
      "text/plain": [
       "<Figure size 432x288 with 1 Axes>"
      ]
     },
     "metadata": {
      "needs_background": "light"
     },
     "output_type": "display_data"
    }
   ],
   "source": [
    "df_grouped = games.groupby(\"genre\")[\"total_sales\"].sum()\n",
    "df_grouped.plot(kind='bar')\n",
    "plt.xlabel('genero')\n",
    "plt.ylabel('promedio de Ventas Globales')\n",
    "plt.title('generos con respecto a las ventas')\n",
    "plt.legend(title='Plataforma')\n",
    "plt.xticks(rotation=90)\n",
    "plt.show()"
   ]
  },
  {
   "cell_type": "markdown",
   "metadata": {},
   "source": [
    "los generos que tiene mas ventas son action , sports y shooter dentro de todo estos son los generos mas mainstream de los videojuegos y con respecto a los que tienen menos ventas son adventure, puzzle y strategy que pertenecen a juegos mas de nicho"
   ]
  },
  {
   "cell_type": "markdown",
   "metadata": {},
   "source": [
    "<div class=\"alert alert-block alert-danger\">\n",
    "<b>Comentario de Reviewer</b> <a class=\"tocSkip\"></a>\n",
    "\n",
    "Ojo que estos son los géneros que más venta tienen, pero si asumimos que todos tienen un costo de producción promedio similar, entonces para ver la rentabilidad mejor miramos el promedio de ventas de los juegos de cada genero. Calcula el promedio de ventas por juego para cada género y compara nuevamente.\n",
    "</div>"
   ]
  },
  {
   "cell_type": "markdown",
   "metadata": {},
   "source": [
    "<div class=\"alert alert-block alert-success\">\n",
    "<b>Comentario de Reviewer v2</b> <a class=\"tocSkip\"></a>\n",
    "\n",
    "Correcto, se tiene la visibilidad de ventas totales y el promedio por juego.\n",
    "</div>"
   ]
  },
  {
   "cell_type": "markdown",
   "metadata": {},
   "source": [
    "## Paso 4. Crea un perfil de usuario para cada región"
   ]
  },
  {
   "cell_type": "markdown",
   "metadata": {},
   "source": [
    "### Las cinco plataformas principales."
   ]
  },
  {
   "cell_type": "code",
   "execution_count": 26,
   "metadata": {},
   "outputs": [
    {
     "data": {
      "image/png": "[encoded data removed]",
      "text/plain": [
       "<Figure size 432x288 with 1 Axes>"
      ]
     },
     "metadata": {
      "needs_background": "light"
     },
     "output_type": "display_data"
    },
    {
     "data": {
      "image/png": "[encoded data removed]",
      "text/plain": [
       "<Figure size 432x288 with 1 Axes>"
      ]
     },
     "metadata": {
      "needs_background": "light"
     },
     "output_type": "display_data"
    },
    {
     "data": {
      "image/png": "[encoded data removed]",
      "text/plain": [
       "<Figure size 432x288 with 1 Axes>"
      ]
     },
     "metadata": {
      "needs_background": "light"
     },
     "output_type": "display_data"
    }
   ],
   "source": [
    "#cinco plataformas principales en la region  NA\n",
    "\n",
    "df_na=games.groupby(\"platform\")[\"na_sales\"].sum().reset_index()\n",
    "df_na.plot(kind = \"bar\",x=\"platform\", y=\"na_sales\")\n",
    "\n",
    "# Personalizar el gráfico\n",
    "plt.xlabel(\"consolas\")\n",
    "plt.ylabel('ventas')\n",
    "plt.title('ventas en na')\n",
    "\n",
    "# Mostrar el gráfico\n",
    "plt.show()\n",
    "#cinco plataformas principales en la region  UE\n",
    "df_ue=games.groupby(\"platform\")[\"eu_sales\"].sum().reset_index()\n",
    "df_ue.plot(kind = \"bar\",x=\"platform\", y=\"eu_sales\")\n",
    "\n",
    "# Personalizar el gráfico\n",
    "plt.xlabel(\"consolas\")\n",
    "plt.ylabel('ventas')\n",
    "plt.title('ventas en ue')\n",
    "\n",
    "# Mostrar el gráfico\n",
    "plt.show()\n",
    "#cinco plataformas principales en la region  JP\n",
    "df_jp=games.groupby(\"platform\")[\"jp_sales\"].sum().reset_index()\n",
    "df_jp\n",
    "df_jp.plot(kind = \"bar\",x=\"platform\", y=\"jp_sales\")\n",
    "\n",
    "# Personalizar el gráfico\n",
    "plt.xlabel(\"consolas\")\n",
    "plt.ylabel('ventas')\n",
    "plt.title('ventas en jp')\n",
    "\n",
    "# Mostrar el gráfico\n",
    "plt.show()"
   ]
  },
  {
   "cell_type": "markdown",
   "metadata": {},
   "source": [
    "las cinco plataformas principales en na son : DS, Ps2, ps3, wii y x360\n",
    "las cinco plataformas principales en eu son:  DS, Ps2, ps3, wii y x360\n",
    "las cinco plataformas principales en jp son:  DS, Ps2, ps3, wii y ps"
   ]
  },
  {
   "cell_type": "markdown",
   "metadata": {},
   "source": [
    "<div class=\"alert alert-block alert-success\">\n",
    "<b>Comentario de Reviewer</b> <a class=\"tocSkip\"></a>\n",
    "\n",
    "Ok, eu y na se parecen, jp es diferente. Para los gráficos te recomiendo ordenar de mayor a menor.\n",
    "</div>"
   ]
  },
  {
   "cell_type": "markdown",
   "metadata": {},
   "source": [
    "### Los cinco géneros principales "
   ]
  },
  {
   "cell_type": "code",
   "execution_count": 27,
   "metadata": {},
   "outputs": [
    {
     "data": {
      "image/png": "[encoded data removed]",
      "text/plain": [
       "<Figure size 432x288 with 1 Axes>"
      ]
     },
     "metadata": {
      "needs_background": "light"
     },
     "output_type": "display_data"
    },
    {
     "data": {
      "image/png": "[encoded data removed]",
      "text/plain": [
       "<Figure size 432x288 with 1 Axes>"
      ]
     },
     "metadata": {
      "needs_background": "light"
     },
     "output_type": "display_data"
    },
    {
     "data": {
      "image/png": "[encoded data removed]",
      "text/plain": [
       "<Figure size 432x288 with 1 Axes>"
      ]
     },
     "metadata": {
      "needs_background": "light"
     },
     "output_type": "display_data"
    }
   ],
   "source": [
    "#cinco generos principales en na\n",
    "genre_na = games.groupby(\"genre\")[\"na_sales\"].sum().reset_index()\n",
    "genre_na.plot(kind = \"bar\",x=\"genre\", y=\"na_sales\")\n",
    "\n",
    "# Personalizar el gráfico\n",
    "plt.xlabel(\"genero\")\n",
    "plt.ylabel('ventas')\n",
    "plt.title('ventas por genero en na')\n",
    "\n",
    "# Mostrar el gráfico\n",
    "plt.show()\n",
    "#cinco generos principales en eu\n",
    "genre_eu=games.groupby(\"genre\")[\"eu_sales\"].sum().reset_index()\n",
    "genre_eu.plot(kind = \"bar\",x=\"genre\", y=\"eu_sales\")\n",
    "\n",
    "# Personalizar el gráfico\n",
    "plt.xlabel(\"genero\")\n",
    "plt.ylabel('ventas')\n",
    "plt.title('ventas por genero en eu')\n",
    "\n",
    "# Mostrar el gráfico\n",
    "plt.show()\n",
    "#cinco generos principales en jp\n",
    "genre_jp=games.groupby(\"genre\")[\"jp_sales\"].sum().reset_index()\n",
    "genre_jp.plot(kind = \"bar\",x=\"genre\", y=\"jp_sales\")\n",
    "\n",
    "# Personalizar el gráfico\n",
    "plt.xlabel(\"genero\")\n",
    "plt.ylabel('ventas')\n",
    "plt.title('ventas por genero en jp')\n",
    "\n",
    "# Mostrar el gráfico\n",
    "plt.show()"
   ]
  },
  {
   "cell_type": "markdown",
   "metadata": {},
   "source": [
    "los graficos para la regiones eu y na son bastante similares pero en japon el genero mas vendido seria role_playing y esto puede deberse a un tema cultural"
   ]
  },
  {
   "cell_type": "markdown",
   "metadata": {},
   "source": [
    "<div class=\"alert alert-block alert-success\">\n",
    "<b>Comentario de Reviewer</b> <a class=\"tocSkip\"></a>\n",
    "\n",
    "Ok, nuevamente eu y na se parecen, jp es diferente. Para los gráficos te recomiendo ordenar de mayor a menor.\n",
    "</div>"
   ]
  },
  {
   "cell_type": "markdown",
   "metadata": {},
   "source": [
    "### Si las clasificaciones de ESRB afectan a las ventas en regiones individuales."
   ]
  },
  {
   "cell_type": "code",
   "execution_count": 28,
   "metadata": {},
   "outputs": [
    {
     "data": {
      "image/png": "[encoded data removed]",
      "text/plain": [
       "<Figure size 432x288 with 1 Axes>"
      ]
     },
     "metadata": {
      "needs_background": "light"
     },
     "output_type": "display_data"
    },
    {
     "data": {
      "image/png": "[encoded data removed]",
      "text/plain": [
       "<Figure size 432x288 with 1 Axes>"
      ]
     },
     "metadata": {
      "needs_background": "light"
     },
     "output_type": "display_data"
    },
    {
     "data": {
      "image/png": "[encoded data removed]",
      "text/plain": [
       "<Figure size 432x288 with 1 Axes>"
      ]
     },
     "metadata": {
      "needs_background": "light"
     },
     "output_type": "display_data"
    }
   ],
   "source": [
    "#Si las clasificaciones de ESRB afectan a las ventas en regiones individuales\n",
    "#ventaspor esrb en na\n",
    "esrb_na = games.groupby(\"rating\")[\"na_sales\"].sum().reset_index()\n",
    "esrb_na.plot(kind = \"bar\",x=\"rating\", y=\"na_sales\")\n",
    "\n",
    "# Personalizar el gráfico\n",
    "plt.xlabel(\"rating\")\n",
    "plt.ylabel('ventas')\n",
    "plt.title('ventas por rating en na')\n",
    "plt.xticks(rotation=0)\n",
    "# Mostrar el gráfico\n",
    "plt.show()\n",
    "#cinco generos principales en eu\n",
    "esrb_eu=games.groupby(\"rating\")[\"eu_sales\"].sum().reset_index()\n",
    "esrb_eu.plot(kind = \"bar\",x=\"rating\", y=\"eu_sales\")\n",
    "\n",
    "# Personalizar el gráfico\n",
    "plt.xlabel(\"rating\")\n",
    "plt.ylabel('ventas')\n",
    "plt.title('ventas por rating en eu')\n",
    "plt.xticks(rotation=0)\n",
    "# Mostrar el gráfico\n",
    "plt.show()\n",
    "#cinco generos principales en jp\n",
    "esrb_jp=games.groupby(\"rating\")[\"jp_sales\"].sum().reset_index()\n",
    "esrb_jp.plot(kind = \"bar\",x=\"rating\", y=\"jp_sales\")\n",
    "\n",
    "# Personalizar el gráfico\n",
    "plt.xlabel(\"rating\")\n",
    "plt.ylabel('ventas')\n",
    "plt.title('ventas por rating en jp')\n",
    "plt.xticks(rotation=0)\n",
    "# Mostrar el gráfico\n",
    "plt.show()"
   ]
  },
  {
   "cell_type": "markdown",
   "metadata": {},
   "source": [
    "con respecto a las ventas por clasificacion hay un patron claro donde la clasificacion E para todo el mundo, la clasificaion M para mature +17 y la clasificacion t para teenager son las clasificaciones que levantan mas ventas pero esto tambien debe depender de cuantos juegos salieron para cada clasificacion, ya que a un mayor numero de juegos lanzados en una categoria mas ventas tendera a acumular"
   ]
  },
  {
   "cell_type": "markdown",
   "metadata": {},
   "source": [
    "<div class=\"alert alert-block alert-success\">\n",
    "<b>Comentario de Reviewer</b> <a class=\"tocSkip\"></a>\n",
    "\n",
    "Correcto\n",
    "</div>"
   ]
  },
  {
   "cell_type": "markdown",
   "metadata": {},
   "source": [
    "## Paso 5. Prueba las siguientes hipótesis:"
   ]
  },
  {
   "cell_type": "markdown",
   "metadata": {},
   "source": [
    "<div class=\"alert alert-block alert-danger\">\n",
    "<b>Comentario de Reviewer</b> <a class=\"tocSkip\"></a>\n",
    "\n",
    "Los test están bien, pero para el t-test debes decidir si asumiras una varianza igual entre las poblaciones o no. Para decidir esto, realiza el test de levene antes\n",
    "</div>"
   ]
  },
  {
   "cell_type": "markdown",
   "metadata": {},
   "source": [
    "### Las calificaciones promedio de los usuarios para las plataformas Xbox One y PC son las mismas."
   ]
  },
  {
   "cell_type": "code",
   "execution_count": 39,
   "metadata": {},
   "outputs": [
    {
     "name": "stdout",
     "output_type": "stream",
     "text": [
      "Estadístico de Levene: 3.653010350065009\n",
      "Valor p: 0.05621808046851521\n",
      "Las varianzas son iguales (no podemos rechazar la igualdad)\n",
      "valor p: 3.280365931873243e-05\n",
      "Rechazamos la hipótesis nula\n"
     ]
    }
   ],
   "source": [
    "#hipotesis nula: Las calificaciones promedio de los usuarios para las plataformas Xbox One y PC son las mismas.\n",
    "#hipotesis alternativa: Las calificaciones promedio de los usuarios para las plataformas Xbox One y PC no son las mismas.\n",
    "rating_pc=games[games[\"platform\"]==\"PC\"][\"user_score\"]\n",
    "rating_xone=games[games[\"platform\"]==\"XOne\"][\"user_score\"]\n",
    "#aplicar test levene para ver la igualdad de la varianza\n",
    "rating_pc = [x for x in rating_pc if not np.isnan(x)]\n",
    "rating_xone = [x for x in rating_xone if not np.isnan(x)]\n",
    "statistic, p_value = levene(rating_pc, rating_xone)\n",
    "\n",
    "print(\"Estadístico de Levene:\", statistic)\n",
    "print(\"Valor p:\", p_value)\n",
    "\n",
    "alpha = 0.05\n",
    "if p_value < alpha:\n",
    "    print(\"Las varianzas son diferentes (rechazamos la igualdad)\")\n",
    "else:\n",
    "    print(\"Las varianzas son iguales (no podemos rechazar la igualdad)\")\n",
    "alpha = 0.05\n",
    "results = st.ttest_ind(rating_pc,rating_xone,nan_policy=\"omit\",equal_var=True)\n",
    "print('valor p:',results.pvalue)\n",
    "if results.pvalue < alpha:# tu código: compara los valores p obtenidos con el nivel de significación estadística):\n",
    "    print(\"Rechazamos la hipótesis nula\")\n",
    "else:\n",
    "    print(\"No podemos rechazar la hipótesis nula\")"
   ]
  },
  {
   "cell_type": "markdown",
   "metadata": {},
   "source": [
    "<div class=\"alert alert-block alert-success\">\n",
    "<b>Comentario de Reviewer v2</b> <a class=\"tocSkip\"></a>\n",
    "\n",
    "Excelente, muy bien!\n",
    "</div>"
   ]
  },
  {
   "cell_type": "markdown",
   "metadata": {},
   "source": [
    "segun el resultado los promedios de las calificaciones no son las mismas"
   ]
  },
  {
   "cell_type": "markdown",
   "metadata": {},
   "source": [
    "### Las calificaciones promedio de los usuarios para los géneros de Acción y Deportes son diferentes."
   ]
  },
  {
   "cell_type": "code",
   "execution_count": 38,
   "metadata": {},
   "outputs": [
    {
     "name": "stdout",
     "output_type": "stream",
     "text": [
      "Estadístico de Levene: 2.5272901306348543\n",
      "Valor p: 0.1119575804230386\n",
      "Las varianzas son iguales (no podemos rechazar la igualdad)\n",
      "valor p: 0.0899517834023573\n",
      "No podemos rechazar la hipótesis nula\n"
     ]
    }
   ],
   "source": [
    "# hipotesis nula: Las calificaciones promedio de los usuarios para los generos de accion y deporte son iguales\n",
    "# hipotesis aletnativa : Las calificaciones promedio de los usuarios para los géneros de Acción y Deportes son diferentes.\n",
    "rating_action=games[games[\"genre\"]==\"Action\"][\"user_score\"]\n",
    "rating_sports=games[games[\"genre\"]==\"Sports\"][\"user_score\"]\n",
    "#aplicar test levene para ver la igualdad de la varianza\n",
    "rating_action = [x for x in rating_action if not np.isnan(x)]\n",
    "rating_sports = [x for x in rating_sports if not np.isnan(x)]\n",
    "statistic, p_value = levene(rating_action, rating_sports)\n",
    "\n",
    "print(\"Estadístico de Levene:\", statistic)\n",
    "print(\"Valor p:\", p_value)\n",
    "\n",
    "alpha = 0.05\n",
    "if p_value < alpha:\n",
    "    print(\"Las varianzas son diferentes (rechazamos la igualdad)\")\n",
    "else:\n",
    "    print(\"Las varianzas son iguales (no podemos rechazar la igualdad)\")\n",
    "alpha = 0.05\n",
    "results = st.ttest_ind(rating_action,rating_sports,nan_policy=\"omit\",equal_var=True)\n",
    "print('valor p:',results.pvalue)\n",
    "if results.pvalue < alpha:# tu código: compara los valores p obtenidos con el nivel de significación estadística):\n",
    "    print(\"Rechazamos la hipótesis nula\")\n",
    "else:\n",
    "    print(\"No podemos rechazar la hipótesis nula\")"
   ]
  },
  {
   "cell_type": "markdown",
   "metadata": {},
   "source": [
    "segun el resultado no podemos negar que el promedio de ambas calificaciones de promedio sean diferentes, osea talves si sean diferentes significativamente"
   ]
  },
  {
   "cell_type": "markdown",
   "metadata": {},
   "source": [
    "formule las hipotesis nulas primero suponiendo que ambas calificaciones promedio de ambos casos eran iguales y la alternativa que ambas medias eran diferentes y utilice el metodo de las dos colas porque no importa si las medias son o no mayores o menores solo queremos saber si son iguales o diferentes"
   ]
  },
  {
   "cell_type": "markdown",
   "metadata": {},
   "source": [
    "<div class=\"alert alert-block alert-success\">\n",
    "<b>Comentario de Reviewer v2</b> <a class=\"tocSkip\"></a>\n",
    "\n",
    "Excelente, muy bien!\n",
    "</div>"
   ]
  },
  {
   "cell_type": "markdown",
   "metadata": {},
   "source": [
    "# conclusion general\n",
    "Pasamos por agarrar un dataframe dentro de todo bastante aceptable en la que no es necesario grandes cambios o arreglos lo que nos permite pasar directamente al analisis donde revisamos las plataformas mas populares desde los inicios de los tiempos y su evolucion, los efectos que reciben los juegos en sus ventas a partir de las criticas de los usuarios y los criticos porfesionales , no olvidando como afecta a las ventas el genero de juego, y un analisis especifico para cada region del mundo y para terminar se puso a prueba un par de hipoesis sobre las calificaciones promedio "
   ]
  },
  {
   "cell_type": "markdown",
   "metadata": {},
   "source": [
    "<div class=\"alert alert-block alert-warning\">\n",
    "<b>Comentario de Reviewer v2</b> <a class=\"tocSkip\"></a>\n",
    "\n",
    "Ok con la conclusión, resume lo realizado en el notebook pero falta incluir resultados. Es importante escribir en las conclusiones algún hallazgo que se haya descubierto al analizar la data e incluir un resultado numérico para justificarlo.\n",
    "</div>"
   ]
  }
 ],
 "metadata": {
  "kernelspec": {
   "display_name": "Python 3 (ipykernel)",
   "language": "python",
   "name": "python3"
  },
  "language_info": {
   "codemirror_mode": {
    "name": "ipython",
    "version": 3
   },
   "file_extension": ".py",
   "mimetype": "text/x-python",
   "name": "python",
   "nbconvert_exporter": "python",
   "pygments_lexer": "ipython3",
   "version": "3.9.5"
  },
  "toc": {
   "base_numbering": 1,
   "nav_menu": {},
   "number_sections": true,
   "sideBar": true,
   "skip_h1_title": true,
   "title_cell": "Table of Contents",
   "title_sidebar": "Contents",
   "toc_cell": false,
   "toc_position": {},
   "toc_section_display": true,
   "toc_window_display": false
  }
 },
 "nbformat": 4,
 "nbformat_minor": 2
}
